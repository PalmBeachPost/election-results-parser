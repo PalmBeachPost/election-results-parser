{
 "cells": [
  {
   "cell_type": "code",
   "execution_count": 31,
   "metadata": {
    "collapsed": false,
    "deletable": true,
    "editable": true
   },
   "outputs": [
    {
     "data": {
      "text/plain": [
       "'\\nTo-do list:\\nActually parse stuff\\nSimplify party names when there are more (Green, Reform)\\nBuild a system to identify winners\\nClean up judicial shit\\nFigure out how to handle the \"keep to retain\" races\\nCure cancer\\nFoment world peace\\n'"
      ]
     },
     "execution_count": 31,
     "metadata": {},
     "output_type": "execute_result"
    }
   ],
   "source": [
    "\"\"\"\n",
    "To-do list:\n",
    "Build rounder tool; watch for zeroes\n",
    "Build comma tool\n",
    "Do we sort by vote?\n",
    "Count votes at county-candidate and candidate levels\n",
    "Calculate PrecinctRPct\n",
    "Calculate candidate vote share\n",
    "\n",
    "Allow resorting of group names, e.g., Governor, then U.S. Senate, then U.S. House?\n",
    "Simplify party names when there are more (Green, Reform)\n",
    "Build a system to identify winners\n",
    "Figure out how to handle the \"keep to retain\" races\n",
    "Cure cancer\n",
    "Foment world peace\n",
    "\n",
    "Done:\n",
    "Actually parse stuff\n",
    "Clean up judicial shit\n",
    "\"\"\""
   ]
  },
  {
   "cell_type": "code",
   "execution_count": 32,
   "metadata": {
    "collapsed": true,
    "deletable": true,
    "editable": true
   },
   "outputs": [],
   "source": [
    "from flask import Flask, render_template, redirect, url_for, request   # External dependency\n",
    "from flask_frozen import Freezer\n",
    "\n",
    "import csv\n",
    "import glob\n",
    "import time\n",
    "import datetime\n",
    "from collections import OrderedDict\n",
    "import pprint\n",
    "import os"
   ]
  },
  {
   "cell_type": "code",
   "execution_count": 22,
   "metadata": {
    "collapsed": false,
    "deletable": true,
    "editable": true
   },
   "outputs": [],
   "source": [
    "primary = True\n",
    "datadir = \"snapshots/\"\n",
    "racedelim = \" -- \"    # E.g., \"U.S. Senator -- Rep.\"\n",
    "papers = {\n",
    "    \"palmbeachpost\": [\"Palm Beach\", \"Martin\", \"St. Lucie\"],\n",
    "    \"jacksonville\": [\"Duval\", \"Clay\", \"St. Johns\", \"Nassau\", \"Baker\"],\n",
    "    \"ocala\": [\"Alachua\", \"Marion\", \"Levy\", \"Bradford\", \"Putnam\", \"Citrus\"],\n",
    "    \"apalachiola\": [\"Franklin\"],\n",
    "    \"nwf\": [\"Santa Rosa\", \"Okaloosa\", \"Walton\"],\n",
    "    \"staugustine\": [\"St. Johns\"],\n",
    "    \"daytonabeach\": [\"Volusia\", \"Flagler\"],\n",
    "    \"lakeland\": [\"Polk\"]\n",
    "}"
   ]
  },
  {
   "cell_type": "code",
   "execution_count": 23,
   "metadata": {
    "collapsed": true
   },
   "outputs": [],
   "source": [
    "pp = pprint.PrettyPrinter(indent=4)\n",
    "folders = sorted(list(glob.glob(datadir + \"*\")), reverse=True)    # Find the latest time-stamped folder\n",
    "folder = folders[0] + \"/\"\n",
    "if len(glob.glob(folder + \"*\")) != 4:   # 3 file native file types and a done file. If not 4 files, it's not done\n",
    "    time.sleep(10)   # 10 seconds to beat a race condition\n",
    "    if len(glob.glob(folders[0] + \"/*\")) != 4:\n",
    "        print(quit)"
   ]
  },
  {
   "cell_type": "code",
   "execution_count": 24,
   "metadata": {
    "collapsed": false,
    "deletable": true,
    "editable": true
   },
   "outputs": [],
   "source": [
    "def get_timestamp():\n",
    "    global folder\n",
    "    rawtimestamp = folder.split(\"-\")[1].replace(\"/\", \"\")\n",
    "    hour = int(rawtimestamp[0:2])\n",
    "    if hour > 12:\n",
    "        hour = hour -12\n",
    "    if hour == 0:\n",
    "        hour = 12\n",
    "    hour = str(hour)\n",
    "    timestamp = hour + \":\" + rawtimestamp[2:4]\n",
    "    return(timestamp)"
   ]
  },
  {
   "cell_type": "code",
   "execution_count": 54,
   "metadata": {
    "collapsed": false
   },
   "outputs": [],
   "source": [
    "def comma(input):\n",
    "    return(\"{:,}\".format(input))\n",
    "    "
   ]
  },
  {
   "cell_type": "code",
   "execution_count": 46,
   "metadata": {
    "collapsed": true
   },
   "outputs": [],
   "source": [
    "def pct(top, bottom):\n",
    "    if bottom == 0 or top == 0:\n",
    "        result = 0\n",
    "    else: \n",
    "        result = round(float(top*100)/float(bottom), 1)\n",
    "    return(result)"
   ]
  },
  {
   "cell_type": "code",
   "execution_count": 25,
   "metadata": {
    "collapsed": true,
    "deletable": true,
    "editable": true
   },
   "outputs": [],
   "source": [
    "def cleanrow(row):\n",
    "    global primary\n",
    "    global racedelim\n",
    "    for item in (\"Precincts\", \"PrecinctsReporting\", \"CanVotes\"):\n",
    "        row[item] = int(row[item])    # Turn into numbers\n",
    "    partysubs = [\n",
    "        (\"Republican Party\", \"Rep.\"),\n",
    "        (\"Democratic Party\", \"Dem.\"),\n",
    "        (\"Non-Partisan\", \"\"),\n",
    "        (\"Green Party\", \"Green\"),\n",
    "        (\"Reform Party\", \"Reform\")\n",
    "    ]\n",
    "    row['ShortParty'] = row['PartyName']\n",
    "    for partysub in partysubs:\n",
    "        row['ShortParty'] = row['ShortParty'].replace(partysub[0], partysub[1])\n",
    "    racesubs = [\n",
    "        (\"United States \", \"U.S. \"),\n",
    "        (\"Representative in Congress, District \", \"U.S. Congress, District \"),\n",
    "        (\"Circuit Judge, \", \"Judge, \"),\n",
    "        (\"State Representative, District \", \"State Rep., District \")\n",
    "    ]\n",
    "    racenameold = row['RaceName']  # Backup data\n",
    "    row['RaceNameOld'] = racenameold\n",
    "    for racesub in racesubs:\n",
    "        row['RaceName'] = row['RaceName'].replace(racesub[0], racesub[1])\n",
    "    racenamegroupsubs = [\n",
    "        (\"Circuit Judge\", \"Circuit Judge\"),\n",
    "        (\"Representative in Congress\", \"U.S. Representative\"),\n",
    "        (\"State Representative\", \"State Representative\"),\n",
    "        (\"State Senator\", \"State Senator\"),\n",
    "        (\"United States Senator\", \"U.S. Senator\"),\n",
    "        (\"State Attorney\", \"State Attorney\")\n",
    "    ]\n",
    "    for item in racenamegroupsubs:\n",
    "        if item[0] in racenameold:\n",
    "            racenameold = item[1]\n",
    "    row['RaceNameGroup'] = racenameold\n",
    "    if not primary:\n",
    "        row['FullRace'] = row['RaceName']\n",
    "        row['Partisan'] = 0\n",
    "    else:\n",
    "        if len(row['ShortParty']) == 0:\n",
    "            row['FullRace'] = row['RaceName']\n",
    "            row['Partisan'] = 0\n",
    "        else:\n",
    "            row['FullRace'] = row['RaceName'] + racedelim + row['ShortParty']\n",
    "            row['Partisan'] = 1\n",
    "    row['FullName'] = (\" \".join([row['CanNameFirst'], row['CanNameMiddle'], row['CanNameLast']])).replace(\"  \", \" \")\n",
    "    return(row)"
   ]
  },
  {
   "cell_type": "code",
   "execution_count": 26,
   "metadata": {
    "collapsed": false,
    "deletable": true,
    "editable": true
   },
   "outputs": [],
   "source": [
    "with open(folder + \"results.txt\", \"r\") as f:    # Import the data and do some basic cleaning\n",
    "    masterlist = []\n",
    "    for row in csv.DictReader(f, delimiter=\"\\t\"):\n",
    "        masterlist.append(cleanrow(row))"
   ]
  },
  {
   "cell_type": "code",
   "execution_count": 27,
   "metadata": {
    "collapsed": false,
    "deletable": true,
    "editable": true
   },
   "outputs": [],
   "source": [
    "with open(\"recastreport.csv\", \"w\", newline=\"\") as f:\n",
    "    headers = row.keys()\n",
    "    writer = csv.writer(f)\n",
    "    writer.writerow(headers)\n",
    "    for row in masterlist:\n",
    "        line = []\n",
    "        for item in headers:\n",
    "            line.append(str(row[item]))\n",
    "        writer.writerow(line)"
   ]
  },
  {
   "cell_type": "code",
   "execution_count": 38,
   "metadata": {
    "collapsed": false,
    "deletable": true,
    "editable": true
   },
   "outputs": [],
   "source": [
    "countydict = OrderedDict()\n",
    "racedict = OrderedDict()\n",
    "racetracker = OrderedDict()\n",
    "racenamegroups = OrderedDict()\n",
    "for row in masterlist:\n",
    "    # Begin basic setup\n",
    "    if row['CountyName'] not in countydict:\n",
    "        countydict[row['CountyName']] = []\n",
    "    if row['FullRace'] not in countydict[row['CountyName']]:\n",
    "        countydict[row['CountyName']].append(row['FullRace'])\n",
    "    if row['FullRace'] not in racedict:\n",
    "        racedict[row['FullRace']] = OrderedDict()\n",
    "        for item in [\"Votes\", \"Precincts\", \"PrecinctsR\"]:\n",
    "            racedict[row['FullRace']][item] = 0    \n",
    "        racedict[row['FullRace']]['Counties'] = OrderedDict()\n",
    "        racedict[row['FullRace']]['Candidates'] = OrderedDict()\n",
    "    if row['FullName'] not in racedict[row['FullRace']]['Candidates']:\n",
    "        racedict[row['FullRace']]['Candidates'][row['FullName']] = {}\n",
    "        racedict[row['FullRace']]['Candidates'][row['FullName']]['Votes'] = 0\n",
    "        for item in [\"CanNameLast\", \"CanNameMiddle\", \"CanNameFirst\", \"PartyName\", \"ShortParty\"]:\n",
    "            racedict[row['FullRace']]['Candidates'][row['FullName']][item] = row[item]\n",
    "    if row['CountyName'] not in racedict[row['FullRace']]['Counties']:\n",
    "        racedict[row['FullRace']]['Counties'][row['CountyName']] = OrderedDict()\n",
    "        racedict[row['FullRace']]['Counties'][row['CountyName']]['Candidates'] = OrderedDict()\n",
    "        racedict[row['FullRace']]['Counties'][row['CountyName']]['PrecinctsR'] = row['PrecinctsReporting']\n",
    "        racedict[row['FullRace']]['Counties'][row['CountyName']]['Precincts'] = row['Precincts']\n",
    "        racedict[row['FullRace']]['Counties'][row['CountyName']]['Votes'] = 0\n",
    "        racedict[row['FullRace']]['Precincts'] += row['Precincts']\n",
    "        racedict[row['FullRace']]['PrecinctsR'] += row['PrecinctsReporting']\n",
    "    if row['RaceNameGroup'] not in racenamegroups:\n",
    "        racenamegroups[row['RaceNameGroup']] = []\n",
    "    if row['RaceName'] not in racenamegroups[row['RaceNameGroup']]:\n",
    "        # racenamegroups[row['RaceNameGroup']].append(row['RaceName'])\n",
    "        racenamegroups[row['RaceNameGroup']].append(row['FullRace'])\n",
    "    racedict[row['FullRace']]['Counties'][row['CountyName']]['Votes'] += row['CanVotes']\n",
    "    racedict[row['FullRace']]['Candidates'][row['FullName']]['Votes'] += row['CanVotes']\n",
    "    racedict[row['FullRace']]['Counties'][row['CountyName']][row['FullName']] = row['CanVotes']\n",
    "    "
   ]
  },
  {
   "cell_type": "code",
   "execution_count": 29,
   "metadata": {
    "collapsed": false,
    "deletable": true,
    "editable": true
   },
   "outputs": [],
   "source": [
    "paperdict = {}\n",
    "for paper in papers:\n",
    "    paperdict[paper] = []\n",
    "    for county in countydict:\n",
    "        if county in papers[paper]:\n",
    "            for fullrace in countydict[county]:\n",
    "                if fullrace not in paperdict[paper]:\n",
    "                    paperdict[paper].append(fullrace)\n",
    "# Now we should have all the races, but the order is scrambled because there are multiple counties involved.\n",
    "for paper in paperdict:   # HEY!\n",
    "    fml = []\n",
    "    for racenamegroup in racenamegroups:\n",
    "        for racename in racenamegroups[racenamegroup]: # Not a dictionary.\n",
    "            if racename in paperdict[paper]:\n",
    "                if racename not in fml:\n",
    "                    fml.append(racename)\n",
    "    paperdict[paper] = fml     \n"
   ]
  },
  {
   "cell_type": "code",
   "execution_count": null,
   "metadata": {
    "collapsed": true
   },
   "outputs": [],
   "source": [
    "# for race in racedict:\n",
    "#    for county in racedict[race]['Counties']:\n",
    "\n",
    "# Fuck it. Handle percentages of votes, percentage of precincts at the template level.       "
   ]
  },
  {
   "cell_type": "code",
   "execution_count": 35,
   "metadata": {
    "collapsed": false
   },
   "outputs": [
    {
     "name": "stdout",
     "output_type": "stream",
     "text": [
      "{   'apalachiola': [   'U.S. Senator -- Rep.',\n",
      "                       'U.S. Congress, District 2 -- Dem.',\n",
      "                       'Governor -- Rep.',\n",
      "                       'Governor -- Dem.',\n",
      "                       'Attorney General -- Rep.',\n",
      "                       'Attorney General -- Dem.',\n",
      "                       'Commissioner of Agriculture -- Rep.',\n",
      "                       'Commissioner of Agriculture -- Dem.',\n",
      "                       'Judge, 2nd Judicial Circuit, Group 12'],\n",
      "    'daytonabeach': [   'U.S. Senator -- Rep.',\n",
      "                        'U.S. Congress, District 6 -- Rep.',\n",
      "                        'U.S. Congress, District 6 -- Dem.',\n",
      "                        'Governor -- Rep.',\n",
      "                        'Governor -- Dem.',\n",
      "                        'Attorney General -- Rep.',\n",
      "                        'Attorney General -- Dem.',\n",
      "                        'Commissioner of Agriculture -- Rep.',\n",
      "                        'Commissioner of Agriculture -- Dem.',\n",
      "                        'State Rep., District 26 -- Rep.',\n",
      "                        'State Rep., District 26 -- Dem.',\n",
      "                        'State Rep., District 27 -- Dem.',\n",
      "                        'Judge, 7th Judicial Circuit, Group 15'],\n",
      "    'jacksonville': [   'U.S. Senator -- Rep.',\n",
      "                        'U.S. Congress, District 3 -- Rep.',\n",
      "                        'U.S. Congress, District 3 -- Dem.',\n",
      "                        'U.S. Congress, District 5 -- Dem.',\n",
      "                        'U.S. Congress, District 6 -- Rep.',\n",
      "                        'U.S. Congress, District 6 -- Dem.',\n",
      "                        'Governor -- Rep.',\n",
      "                        'Governor -- Dem.',\n",
      "                        'Attorney General -- Rep.',\n",
      "                        'Attorney General -- Dem.',\n",
      "                        'Commissioner of Agriculture -- Rep.',\n",
      "                        'Commissioner of Agriculture -- Dem.',\n",
      "                        'State Senator, District 4 -- Rep.',\n",
      "                        'State Rep., District 10 -- Rep.',\n",
      "                        'State Rep., District 11 -- Rep.',\n",
      "                        'State Rep., District 14 -- Dem.',\n",
      "                        'State Rep., District 15 -- Rep.',\n",
      "                        'Judge, 4th Judicial Circuit, Group 18',\n",
      "                        'Judge, 7th Judicial Circuit, Group 15',\n",
      "                        'Judge, 8th Judicial Circuit, Group 8'],\n",
      "    'lakeland': [   'U.S. Senator -- Rep.',\n",
      "                    'U.S. Congress, District 9 -- Dem.',\n",
      "                    'U.S. Congress, District 15 -- Rep.',\n",
      "                    'U.S. Congress, District 15 -- Dem.',\n",
      "                    'U.S. Congress, District 17 -- Rep.',\n",
      "                    'U.S. Congress, District 17 -- Dem.',\n",
      "                    'Governor -- Rep.',\n",
      "                    'Governor -- Dem.',\n",
      "                    'Attorney General -- Rep.',\n",
      "                    'Attorney General -- Dem.',\n",
      "                    'Commissioner of Agriculture -- Rep.',\n",
      "                    'Commissioner of Agriculture -- Dem.',\n",
      "                    'State Senator, District 20 -- Rep.',\n",
      "                    'State Senator, District 20 -- Dem.',\n",
      "                    'State Senator, District 22 -- Dem.',\n",
      "                    'State Rep., District 56 -- Rep.',\n",
      "                    'Judge, 10th Judicial Circuit, Group 10',\n",
      "                    'Judge, 10th Judicial Circuit, Group 11'],\n",
      "    'nwf': [   'U.S. Senator -- Rep.',\n",
      "               'U.S. Congress, District 1 -- Rep.',\n",
      "               'U.S. Congress, District 1 -- Dem.',\n",
      "               'Governor -- Rep.',\n",
      "               'Governor -- Dem.',\n",
      "               'Attorney General -- Rep.',\n",
      "               'Attorney General -- Dem.',\n",
      "               'Commissioner of Agriculture -- Rep.',\n",
      "               'Commissioner of Agriculture -- Dem.',\n",
      "               'State Rep., District 2 -- Rep.'],\n",
      "    'ocala': [   'U.S. Senator -- Rep.',\n",
      "                 'U.S. Congress, District 2 -- Dem.',\n",
      "                 'U.S. Congress, District 3 -- Rep.',\n",
      "                 'U.S. Congress, District 3 -- Dem.',\n",
      "                 'Governor -- Rep.',\n",
      "                 'Governor -- Dem.',\n",
      "                 'Attorney General -- Rep.',\n",
      "                 'Attorney General -- Dem.',\n",
      "                 'Commissioner of Agriculture -- Rep.',\n",
      "                 'Commissioner of Agriculture -- Dem.',\n",
      "                 'State Senator, District 8 -- Dem.',\n",
      "                 'State Rep., District 10 -- Rep.',\n",
      "                 'State Rep., District 21 -- Dem.',\n",
      "                 'State Rep., District 22 -- Rep.',\n",
      "                 'Judge, 5th Judicial Circuit, Group 4',\n",
      "                 'Judge, 7th Judicial Circuit, Group 15',\n",
      "                 'Judge, 8th Judicial Circuit, Group 8'],\n",
      "    'palmbeachpost': [   'U.S. Senator -- Rep.',\n",
      "                         'U.S. Congress, District 18 -- Rep.',\n",
      "                         'U.S. Congress, District 18 -- Dem.',\n",
      "                         'U.S. Congress, District 20 -- Dem.',\n",
      "                         'U.S. Congress, District 22 -- Rep.',\n",
      "                         'U.S. Congress, District 22 -- Dem.',\n",
      "                         'Governor -- Rep.',\n",
      "                         'Governor -- Dem.',\n",
      "                         'Attorney General -- Rep.',\n",
      "                         'Attorney General -- Dem.',\n",
      "                         'Commissioner of Agriculture -- Rep.',\n",
      "                         'Commissioner of Agriculture -- Dem.',\n",
      "                         'State Senator, District 25 -- Rep.',\n",
      "                         'State Senator, District 30 -- Dem.',\n",
      "                         'State Rep., District 55 -- Dem.',\n",
      "                         'State Rep., District 81 -- Dem.',\n",
      "                         'State Rep., District 83 -- Rep.',\n",
      "                         'State Rep., District 84 -- Rep.',\n",
      "                         'State Rep., District 84 -- Dem.',\n",
      "                         'State Rep., District 87 -- Dem.',\n",
      "                         'State Rep., District 89 -- Rep.',\n",
      "                         'State Rep., District 89 -- Dem.',\n",
      "                         'Judge, 15th Judicial Circuit, Group 13',\n",
      "                         'Judge, 15th Judicial Circuit, Group 18',\n",
      "                         'Judge, 15th Judicial Circuit, Group 25',\n",
      "                         'Judge, 19th Judicial Circuit, Group 19'],\n",
      "    'staugustine': [   'U.S. Senator -- Rep.',\n",
      "                       'U.S. Congress, District 6 -- Rep.',\n",
      "                       'U.S. Congress, District 6 -- Dem.',\n",
      "                       'Governor -- Rep.',\n",
      "                       'Governor -- Dem.',\n",
      "                       'Attorney General -- Rep.',\n",
      "                       'Attorney General -- Dem.',\n",
      "                       'Commissioner of Agriculture -- Rep.',\n",
      "                       'Commissioner of Agriculture -- Dem.',\n",
      "                       'Judge, 7th Judicial Circuit, Group 15']}\n"
     ]
    }
   ],
   "source": [
    "pp.pprint(paperdict)"
   ]
  },
  {
   "cell_type": "code",
   "execution_count": 58,
   "metadata": {
    "collapsed": false
   },
   "outputs": [
    {
     "data": {
      "text/plain": [
       "'4.6211241547235624e+16'"
      ]
     },
     "execution_count": 58,
     "metadata": {},
     "output_type": "execute_result"
    }
   ],
   "source": []
  },
  {
   "cell_type": "code",
   "execution_count": 50,
   "metadata": {
    "collapsed": false
   },
   "outputs": [
    {
     "data": {
      "text/plain": [
       "50.0"
      ]
     },
     "execution_count": 50,
     "metadata": {},
     "output_type": "execute_result"
    }
   ],
   "source": []
  },
  {
   "cell_type": "code",
   "execution_count": null,
   "metadata": {
    "collapsed": true
   },
   "outputs": [],
   "source": []
  }
 ],
 "metadata": {
  "kernelspec": {
   "display_name": "Python 3",
   "language": "python",
   "name": "python3"
  },
  "language_info": {
   "codemirror_mode": {
    "name": "ipython",
    "version": 3
   },
   "file_extension": ".py",
   "mimetype": "text/x-python",
   "name": "python",
   "nbconvert_exporter": "python",
   "pygments_lexer": "ipython3",
   "version": "3.6.3"
  }
 },
 "nbformat": 4,
 "nbformat_minor": 2
}
