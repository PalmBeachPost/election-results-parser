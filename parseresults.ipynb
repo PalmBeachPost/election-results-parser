{
 "cells": [
  {
   "cell_type": "code",
   "execution_count": 1,
   "metadata": {
    "collapsed": false
   },
   "outputs": [
    {
     "data": {
      "text/plain": [
       "'\\nTo-do list:\\nActually parse stuff\\nSimplify party names when there are more (Green, Reform)\\nClean up judicial shit\\n'"
      ]
     },
     "execution_count": 1,
     "metadata": {},
     "output_type": "execute_result"
    }
   ],
   "source": [
    "\"\"\"\n",
    "To-do list:\n",
    "Actually parse stuff\n",
    "Simplify party names when there are more (Green, Reform)\n",
    "Clean up judicial shit\n",
    "\"\"\""
   ]
  },
  {
   "cell_type": "code",
   "execution_count": 2,
   "metadata": {
    "collapsed": true
   },
   "outputs": [],
   "source": [
    "import csv\n",
    "import glob\n",
    "import time\n",
    "import datetime"
   ]
  },
  {
   "cell_type": "code",
   "execution_count": 3,
   "metadata": {
    "collapsed": true
   },
   "outputs": [],
   "source": [
    "primary = True\n",
    "datadir = \"snapshots/\"\n",
    "racedelim = \" -- \"    # E.g., \"U.S. Senator -- Rep.\"\n",
    "folders = sorted(list(glob.glob(datadir + \"*\")), reverse=True)    # Find the latest time-stamped folder\n",
    "folder = folders[0] + \"/\"\n",
    "if len(glob.glob(folder + \"*\")) != 4:   # 3 file native file types and a done file. If not 4 files, it's not done\n",
    "    time.sleep(10)   # 10 seconds to beat a race condition\n",
    "    if len(glob.glob(folders[0] + \"/*\")) != 4:\n",
    "        print(quit)"
   ]
  },
  {
   "cell_type": "code",
   "execution_count": 4,
   "metadata": {
    "collapsed": false
   },
   "outputs": [],
   "source": [
    "def get_timestamp():\n",
    "    global folder\n",
    "    rawtimestamp = folder.split(\"-\")[1].replace(\"/\", \"\")\n",
    "    hour = int(rawtimestamp[0:2])\n",
    "    if hour > 12:\n",
    "        hour = hour -12\n",
    "    if hour == 0:\n",
    "        hour = 12\n",
    "    hour = str(hour)\n",
    "    timestamp = hour + \":\" + rawtimestamp[2:4]\n",
    "    return(timestamp)"
   ]
  },
  {
   "cell_type": "code",
   "execution_count": 5,
   "metadata": {
    "collapsed": true
   },
   "outputs": [],
   "source": [
    "def cleanrow(row):\n",
    "    global primary\n",
    "    global racedelim\n",
    "    for item in (\"Precincts\", \"PrecinctsReporting\", \"CanVotes\"):\n",
    "        row[item] = int(row[item])    # Turn into numbers\n",
    "    partysubs = [\n",
    "        (\"Republican Party\", \"Rep.\"),\n",
    "        (\"Democratic Party\", \"Dem.\"),\n",
    "        (\"Non-Partisan\", \"\"),\n",
    "        (\"Green Party\", \"Green\"),\n",
    "        (\"Reform Party\", \"Reform\")\n",
    "    ]\n",
    "    row['ShortParty'] = row['PartyName']\n",
    "    for partysub in partysubs:\n",
    "        row['ShortParty'] = row['ShortParty'].replace(partysub[0], partysub[1])\n",
    "    racesubs = [\n",
    "        (\"United States \", \"U.S. \"),\n",
    "        (\"Representative in Congress, District \", \"U.S. Congress, District \"),\n",
    "        (\"Circuit Judge, \", \"Judge, \"),\n",
    "        (\"State Representative, District \", \"State Rep., District \")\n",
    "    ]\n",
    "    for racesub in racesubs:\n",
    "        row['RaceName'] = row['RaceName'].replace(racesub[0], racesub[1])\n",
    "\n",
    "    if not primary:\n",
    "        row['FullRace'] = row['RaceName']\n",
    "        row['Partisan'] = 0\n",
    "    else:\n",
    "        if len(row['ShortParty']) == 0:\n",
    "            row['FullRace'] = row['RaceName']\n",
    "            row['Partisan'] = 0\n",
    "        else:\n",
    "            row['FullRace'] = row['RaceName'] + racedelim + row['ShortParty']\n",
    "            row['Partisan'] = 1\n",
    "    return(row)"
   ]
  },
  {
   "cell_type": "code",
   "execution_count": 6,
   "metadata": {
    "collapsed": false
   },
   "outputs": [],
   "source": [
    "with open(folder + \"results.txt\", \"r\") as f:    # Import the data and do some basic cleaning\n",
    "    masterlist = []\n",
    "    for row in csv.DictReader(f, delimiter=\"\\t\"):\n",
    "        masterlist.append(cleanrow(row))"
   ]
  },
  {
   "cell_type": "code",
   "execution_count": 7,
   "metadata": {
    "collapsed": false
   },
   "outputs": [],
   "source": [
    "with open(\"recastreport.csv\", \"w\", newline=\"\") as f:\n",
    "    headers = row.keys()\n",
    "    writer = csv.writer(f)\n",
    "    writer.writerow(headers)\n",
    "    for row in masterlist:\n",
    "        line = []\n",
    "        for item in headers:\n",
    "            line.append(str(row[item]))\n",
    "        writer.writerow(line)"
   ]
  },
  {
   "cell_type": "code",
   "execution_count": null,
   "metadata": {
    "collapsed": true
   },
   "outputs": [],
   "source": []
  }
 ],
 "metadata": {
  "kernelspec": {
   "display_name": "Python 3",
   "language": "python",
   "name": "python3"
  },
  "language_info": {
   "codemirror_mode": {
    "name": "ipython",
    "version": 3
   },
   "file_extension": ".py",
   "mimetype": "text/x-python",
   "name": "python",
   "nbconvert_exporter": "python",
   "pygments_lexer": "ipython3",
   "version": "3.6.3"
  }
 },
 "nbformat": 4,
 "nbformat_minor": 2
}
