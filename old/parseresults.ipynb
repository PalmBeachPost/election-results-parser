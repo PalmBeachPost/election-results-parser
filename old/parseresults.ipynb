{
 "cells": [
  {
   "cell_type": "code",
   "execution_count": 1,
   "metadata": {
    "collapsed": false,
    "deletable": true,
    "editable": true
   },
   "outputs": [
    {
     "data": {
      "text/plain": [
       "'\\nTo-do list:\\nDo we sort by vote?\\n\\nAllow resorting of group names, e.g., Governor, then U.S. Senate, then U.S. House?\\nSimplify party names when there are more (Green, Reform)\\nBuild a system to identify winners\\nFigure out how to handle the \"keep to retain\" races\\nCure cancer\\nFoment world peace\\n\\nDone:\\nActually parse stuff\\nClean up judicial shit\\nBuild rounder tool; watch for zeroes\\nBuild comma tool\\nCount votes at county-candidate and candidate levels\\n\\nNot doing:\\nCalculate PrecinctRPct\\nCalculate candidate vote share\\n'"
      ]
     },
     "execution_count": 1,
     "metadata": {},
     "output_type": "execute_result"
    }
   ],
   "source": [
    "\"\"\"\n",
    "To-do list:\n",
    "Do we sort by vote?\n",
    "\n",
    "Allow resorting of group names, e.g., Governor, then U.S. Senate, then U.S. House?\n",
    "Simplify party names when there are more (Green, Reform)\n",
    "Build a system to identify winners\n",
    "Figure out how to handle the \"keep to retain\" races\n",
    "Cure cancer\n",
    "Foment world peace\n",
    "\n",
    "Done:\n",
    "Actually parse stuff\n",
    "Clean up judicial shit\n",
    "Build rounder tool; watch for zeroes\n",
    "Build comma tool\n",
    "Count votes at county-candidate and candidate levels\n",
    "\n",
    "Not doing:\n",
    "Calculate PrecinctRPct\n",
    "Calculate candidate vote share\n",
    "\"\"\""
   ]
  },
  {
   "cell_type": "code",
   "execution_count": 2,
   "metadata": {
    "collapsed": true,
    "deletable": true,
    "editable": true
   },
   "outputs": [],
   "source": [
    "from flask import Flask, render_template, redirect, url_for, request   # External dependency\n",
    "from flask_frozen import Freezer\n",
    "from slugify import slugify   # awesome-slugify, from requirements\n",
    "\n",
    "import csv\n",
    "import glob\n",
    "import time\n",
    "import datetime\n",
    "from collections import OrderedDict\n",
    "import pprint\n",
    "import os\n",
    "import sys"
   ]
  },
  {
   "cell_type": "code",
   "execution_count": 3,
   "metadata": {
    "collapsed": false,
    "deletable": true,
    "editable": true
   },
   "outputs": [],
   "source": [
    "primary = True\n",
    "elexdate = \"20180828\"\n",
    "datadir = \"snapshots/\"\n",
    "racedelim = \" -- \"    # E.g., \"U.S. Senator -- Rep.\"\n",
    "papers = {\n",
    "    \"palmbeachpost\": [\"Palm Beach\", \"Martin\", \"St. Lucie\"],\n",
    "    \"jacksonville\": [\"Duval\", \"Clay\", \"St. Johns\", \"Nassau\", \"Baker\"],\n",
    "    \"ocala\": [\"Alachua\", \"Marion\", \"Levy\", \"Bradford\", \"Putnam\", \"Citrus\"],\n",
    "    \"apalachiola\": [\"Franklin\"],\n",
    "    \"nwf\": [\"Santa Rosa\", \"Okaloosa\", \"Walton\"],\n",
    "    \"staugustine\": [\"St. Johns\"],\n",
    "    \"daytonabeach\": [\"Volusia\", \"Flagler\"],\n",
    "    \"lakeland\": [\"Polk\"]\n",
    "}"
   ]
  },
  {
   "cell_type": "code",
   "execution_count": 4,
   "metadata": {
    "collapsed": true
   },
   "outputs": [],
   "source": [
    "app = Flask(__name__)\n",
    "pp = pprint.PrettyPrinter(indent=4)\n",
    "folders = sorted(list(glob.glob(datadir + \"*\")), reverse=True)    # Find the latest time-stamped folder\n",
    "folder = folders[0] + \"/\"\n",
    "if len(glob.glob(folder + \"*\")) != 4:   # 3 file native file types and a done file. If not 4 files, it's not done\n",
    "    time.sleep(10)   # 10 seconds to beat a race condition\n",
    "    if len(glob.glob(folders[0] + \"/*\")) != 4:\n",
    "        print(quit)"
   ]
  },
  {
   "cell_type": "code",
   "execution_count": 5,
   "metadata": {
    "collapsed": false,
    "deletable": true,
    "editable": true
   },
   "outputs": [],
   "source": [
    "@app.template_filter('timestamp')\n",
    "def get_timestamp():\n",
    "    global folder\n",
    "    rawtimestamp = folder.split(\"-\")[1].replace(\"/\", \"\")\n",
    "    hour = int(rawtimestamp[0:2])\n",
    "    if hour > 12:\n",
    "        hour = hour -12\n",
    "    if hour == 0:\n",
    "        hour = 12\n",
    "    hour = str(hour)\n",
    "    timestamp = hour + \":\" + rawtimestamp[2:4]\n",
    "    return(timestamp)"
   ]
  },
  {
   "cell_type": "code",
   "execution_count": 6,
   "metadata": {
    "collapsed": false
   },
   "outputs": [],
   "source": [
    "@app.template_filter('comma')\n",
    "def comma(input):\n",
    "    return(\"{:,}\".format(input))\n",
    "    "
   ]
  },
  {
   "cell_type": "code",
   "execution_count": 7,
   "metadata": {
    "collapsed": true
   },
   "outputs": [],
   "source": [
    "@app.template_filter('pct')\n",
    "def pct(top, bottom):\n",
    "    if bottom == 0 or top == 0:\n",
    "        result = 0\n",
    "    else: \n",
    "        result = round(float(top*100)/float(bottom), 1)\n",
    "    return(result)"
   ]
  },
  {
   "cell_type": "code",
   "execution_count": 8,
   "metadata": {
    "collapsed": false
   },
   "outputs": [
    {
     "ename": "SyntaxError",
     "evalue": "invalid syntax (<ipython-input-8-d20073da719e>, line 3)",
     "output_type": "error",
     "traceback": [
      "\u001b[1;36m  File \u001b[1;32m\"<ipython-input-8-d20073da719e>\"\u001b[1;36m, line \u001b[1;32m3\u001b[0m\n\u001b[1;33m    return(slugify(text), to_lower=True)\u001b[0m\n\u001b[1;37m                                  ^\u001b[0m\n\u001b[1;31mSyntaxError\u001b[0m\u001b[1;31m:\u001b[0m invalid syntax\n"
     ]
    }
   ],
   "source": [
    "@app.template_filter('slugifier')\n",
    "def slugifier(text):\n",
    "    return(slugify(text), to_lower=True)"
   ]
  },
  {
   "cell_type": "code",
   "execution_count": 9,
   "metadata": {
    "collapsed": true,
    "deletable": true,
    "editable": true
   },
   "outputs": [],
   "source": [
    "def cleanrow(row):\n",
    "    global primary\n",
    "    global racedelim\n",
    "    for item in (\"Precincts\", \"PrecinctsReporting\", \"CanVotes\"):\n",
    "        row[item] = int(row[item])    # Turn into numbers\n",
    "    partysubs = [\n",
    "        (\"Republican Party\", \"Rep.\"),\n",
    "        (\"Democratic Party\", \"Dem.\"),\n",
    "        (\"Non-Partisan\", \"\"),\n",
    "        (\"Green Party\", \"Green\"),\n",
    "        (\"Reform Party\", \"Reform\")\n",
    "    ]\n",
    "    row['ShortParty'] = row['PartyName']\n",
    "    for partysub in partysubs:\n",
    "        row['ShortParty'] = row['ShortParty'].replace(partysub[0], partysub[1])\n",
    "    racesubs = [\n",
    "        (\"United States \", \"U.S. \"),\n",
    "        (\"Representative in Congress, District \", \"U.S. Congress, District \"),\n",
    "        (\"Circuit Judge, \", \"Judge, \"),\n",
    "        (\"State Representative, District \", \"State Rep., District \")\n",
    "    ]\n",
    "    racenameold = row['RaceName']  # Backup data\n",
    "    row['RaceNameOld'] = racenameold\n",
    "    for racesub in racesubs:\n",
    "        row['RaceName'] = row['RaceName'].replace(racesub[0], racesub[1])\n",
    "    racenamegroupsubs = [\n",
    "        (\"Circuit Judge\", \"Circuit Judge\"),\n",
    "        (\"Representative in Congress\", \"U.S. Representative\"),\n",
    "        (\"State Representative\", \"State Representative\"),\n",
    "        (\"State Senator\", \"State Senator\"),\n",
    "        (\"United States Senator\", \"U.S. Senator\"),\n",
    "        (\"State Attorney\", \"State Attorney\")\n",
    "    ]\n",
    "    for item in racenamegroupsubs:\n",
    "        if item[0] in racenameold:\n",
    "            racenameold = item[1]\n",
    "    row['RaceNameGroup'] = racenameold\n",
    "    if not primary:\n",
    "        row['FullRace'] = row['RaceName']\n",
    "        row['Partisan'] = 0\n",
    "    else:\n",
    "        if len(row['ShortParty']) == 0:\n",
    "            row['FullRace'] = row['RaceName']\n",
    "            row['Partisan'] = 0\n",
    "        else:\n",
    "            row['FullRace'] = row['RaceName'] + racedelim + row['ShortParty']\n",
    "            row['Partisan'] = 1\n",
    "    row['FullName'] = (\" \".join([row['CanNameFirst'], row['CanNameMiddle'], row['CanNameLast']])).replace(\"  \", \" \")\n",
    "    return(row)"
   ]
  },
  {
   "cell_type": "code",
   "execution_count": 10,
   "metadata": {
    "collapsed": false,
    "deletable": true,
    "editable": true
   },
   "outputs": [],
   "source": [
    "with open(folder + \"results.txt\", \"r\") as f:    # Import the data and do some basic cleaning\n",
    "    masterlist = []\n",
    "    for row in csv.DictReader(f, delimiter=\"\\t\"):\n",
    "        masterlist.append(cleanrow(row))"
   ]
  },
  {
   "cell_type": "code",
   "execution_count": 11,
   "metadata": {
    "collapsed": false,
    "deletable": true,
    "editable": true
   },
   "outputs": [],
   "source": [
    "with open(\"recastreport.csv\", \"w\", newline=\"\") as f:\n",
    "    headers = row.keys()\n",
    "    writer = csv.writer(f)\n",
    "    writer.writerow(headers)\n",
    "    for row in masterlist:\n",
    "        line = []\n",
    "        for item in headers:\n",
    "            line.append(str(row[item]))\n",
    "        writer.writerow(line)"
   ]
  },
  {
   "cell_type": "code",
   "execution_count": 12,
   "metadata": {
    "collapsed": false,
    "deletable": true,
    "editable": true
   },
   "outputs": [],
   "source": [
    "countydict = OrderedDict()\n",
    "racedict = OrderedDict()\n",
    "racetracker = OrderedDict()\n",
    "racenamegroups = OrderedDict()\n",
    "for row in masterlist:\n",
    "    # Begin basic setup\n",
    "    if row['CountyName'] not in countydict:\n",
    "        countydict[row['CountyName']] = []\n",
    "    if row['FullRace'] not in countydict[row['CountyName']]:\n",
    "        countydict[row['CountyName']].append(row['FullRace'])\n",
    "    if row['FullRace'] not in racedict:\n",
    "        racedict[row['FullRace']] = OrderedDict()\n",
    "        for item in [\"Votes\", \"Precincts\", \"PrecinctsR\"]:\n",
    "            racedict[row['FullRace']][item] = 0    \n",
    "        racedict[row['FullRace']]['Counties'] = OrderedDict()\n",
    "        racedict[row['FullRace']]['Candidates'] = OrderedDict()\n",
    "    if row['FullName'] not in racedict[row['FullRace']]['Candidates']:\n",
    "        racedict[row['FullRace']]['Candidates'][row['FullName']] = {}\n",
    "        racedict[row['FullRace']]['Candidates'][row['FullName']]['Votes'] = 0\n",
    "        for item in [\"CanNameLast\", \"CanNameMiddle\", \"CanNameFirst\", \"PartyName\", \"ShortParty\"]:\n",
    "            racedict[row['FullRace']]['Candidates'][row['FullName']][item] = row[item]\n",
    "    if row['CountyName'] not in racedict[row['FullRace']]['Counties']:\n",
    "        racedict[row['FullRace']]['Counties'][row['CountyName']] = OrderedDict()\n",
    "        racedict[row['FullRace']]['Counties'][row['CountyName']]['Candidates'] = OrderedDict()\n",
    "        racedict[row['FullRace']]['Counties'][row['CountyName']]['PrecinctsR'] = row['PrecinctsReporting']\n",
    "        racedict[row['FullRace']]['Counties'][row['CountyName']]['Precincts'] = row['Precincts']\n",
    "        racedict[row['FullRace']]['Counties'][row['CountyName']]['Votes'] = 0\n",
    "        racedict[row['FullRace']]['Precincts'] += row['Precincts']\n",
    "        racedict[row['FullRace']]['PrecinctsR'] += row['PrecinctsReporting']\n",
    "    if row['RaceNameGroup'] not in racenamegroups:\n",
    "        racenamegroups[row['RaceNameGroup']] = []\n",
    "    # if row['RaceName'] not in racenamegroups[row['RaceNameGroup']]:\n",
    "    if row['FullRace'] not in racenamegroups[row['RaceNameGroup']]:\n",
    "        # racenamegroups[row['RaceNameGroup']].append(row['RaceName'])\n",
    "        racenamegroups[row['RaceNameGroup']].append(row['FullRace'])\n",
    "    racedict[row['FullRace']]['Counties'][row['CountyName']]['Votes'] += row['CanVotes']\n",
    "    racedict[row['FullRace']]['Candidates'][row['FullName']]['Votes'] += row['CanVotes']\n",
    "    racedict[row['FullRace']]['Counties'][row['CountyName']][row['FullName']] = row['CanVotes']\n",
    "    "
   ]
  },
  {
   "cell_type": "code",
   "execution_count": 13,
   "metadata": {
    "collapsed": false,
    "deletable": true,
    "editable": true
   },
   "outputs": [],
   "source": [
    "paperdict = {}\n",
    "papergroupdict = OrderedDict()\n",
    "for paper in papers:\n",
    "    paperdict[paper] = []\n",
    "    for county in countydict:\n",
    "        if county in papers[paper]:\n",
    "            for fullrace in countydict[county]:\n",
    "                if fullrace not in paperdict[paper]:\n",
    "                    paperdict[paper].append(fullrace)\n",
    "# Now we should have all the races, but the order is scrambled because there are multiple counties involved.\n",
    "for paper in paperdict:   # HEY!\n",
    "    fml = []\n",
    "    papergroupdict[paper] = OrderedDict()\n",
    "    for racenamegroup in racenamegroups:\n",
    "        for racename in racenamegroups[racenamegroup]: # Not a dictionary.\n",
    "            if racename in paperdict[paper]:\n",
    "                if racenamegroup not in papergroupdict[paper]:\n",
    "                    papergroupdict[paper][racenamegroup] = []\n",
    "                if racename not in fml:\n",
    "                    papergroupdict[paper][racenamegroup].append(racename)\n",
    "                    fml.append(racename)\n",
    "    paperdict[paper] = fml     \n"
   ]
  },
  {
   "cell_type": "code",
   "execution_count": 14,
   "metadata": {
    "collapsed": false
   },
   "outputs": [],
   "source": [
    "# papergroupdict"
   ]
  },
  {
   "cell_type": "code",
   "execution_count": 15,
   "metadata": {
    "collapsed": true
   },
   "outputs": [],
   "source": [
    "# for race in racedict:\n",
    "#    for county in racedict[race]['Counties']:\n",
    "\n",
    "# Fuck it. Handle percentages of votes, percentage of precincts at the template level.       "
   ]
  },
  {
   "cell_type": "code",
   "execution_count": 16,
   "metadata": {
    "collapsed": false
   },
   "outputs": [],
   "source": [
    "# paperdict['palmbeachpost']"
   ]
  },
  {
   "cell_type": "code",
   "execution_count": null,
   "metadata": {
    "collapsed": true
   },
   "outputs": [],
   "source": []
  },
  {
   "cell_type": "code",
   "execution_count": null,
   "metadata": {
    "collapsed": false
   },
   "outputs": [],
   "source": []
  },
  {
   "cell_type": "code",
   "execution_count": 17,
   "metadata": {
    "collapsed": false
   },
   "outputs": [],
   "source": [
    "@app.route('/' + elexdate + '/<paper>/main.html')\n",
    "def maintemplate(paper):\n",
    "    print(\"Trying to generate for \" + paper)\n",
    "    template = 'core.html'\n",
    "    global paperdict\n",
    "    global racedict\n",
    "    global papergroupdict\n",
    "    groupdict = papergroupdict[paper]\n",
    "    return render_template(template, groupdict=groupdict,\n",
    "                           papergroupdict=papergroupdict, racedict=racedict,\n",
    "                           paperdict=paperdict, paper=paper)"
   ]
  },
  {
   "cell_type": "code",
   "execution_count": 18,
   "metadata": {
    "collapsed": false
   },
   "outputs": [
    {
     "name": "stderr",
     "output_type": "stream",
     "text": [
      " * Running on http://localhost:9000/ (Press CTRL+C to quit)\n"
     ]
    },
    {
     "name": "stdout",
     "output_type": "stream",
     "text": [
      "Now we're ready to actually start creating the pages.\n"
     ]
    },
    {
     "name": "stderr",
     "output_type": "stream",
     "text": [
      "[2018-08-24 13:05:12,280] ERROR in app: Exception on /20180828/palmbeachpost/main.html [GET]\n",
      "Traceback (most recent call last):\n",
      "  File \"c:\\python36\\lib\\site-packages\\flask\\app.py\", line 2292, in wsgi_app\n",
      "    response = self.full_dispatch_request()\n",
      "  File \"c:\\python36\\lib\\site-packages\\flask\\app.py\", line 1815, in full_dispatch_request\n",
      "    rv = self.handle_user_exception(e)\n",
      "  File \"c:\\python36\\lib\\site-packages\\flask\\app.py\", line 1718, in handle_user_exception\n",
      "    reraise(exc_type, exc_value, tb)\n",
      "  File \"c:\\python36\\lib\\site-packages\\flask\\_compat.py\", line 35, in reraise\n",
      "    raise value\n",
      "  File \"c:\\python36\\lib\\site-packages\\flask\\app.py\", line 1813, in full_dispatch_request\n",
      "    rv = self.dispatch_request()\n",
      "  File \"c:\\python36\\lib\\site-packages\\flask\\app.py\", line 1799, in dispatch_request\n",
      "    return self.view_functions[rule.endpoint](**req.view_args)\n",
      "  File \"<ipython-input-17-d91b47e23e0b>\", line 11, in maintemplate\n",
      "    paperdict=paperdict, paper=paper)\n",
      "  File \"c:\\python36\\lib\\site-packages\\flask\\templating.py\", line 134, in render_template\n",
      "    return _render(ctx.app.jinja_env.get_or_select_template(template_name_or_list),\n",
      "  File \"c:\\python36\\lib\\site-packages\\jinja2\\environment.py\", line 869, in get_or_select_template\n",
      "    return self.get_template(template_name_or_list, parent, globals)\n",
      "  File \"c:\\python36\\lib\\site-packages\\jinja2\\environment.py\", line 830, in get_template\n",
      "    return self._load_template(name, self.make_globals(globals))\n",
      "  File \"c:\\python36\\lib\\site-packages\\jinja2\\environment.py\", line 804, in _load_template\n",
      "    template = self.loader.load(self, name, globals)\n",
      "  File \"c:\\python36\\lib\\site-packages\\jinja2\\loaders.py\", line 125, in load\n",
      "    code = environment.compile(source, name, filename)\n",
      "  File \"c:\\python36\\lib\\site-packages\\jinja2\\environment.py\", line 591, in compile\n",
      "    self.handle_exception(exc_info, source_hint=source_hint)\n",
      "  File \"c:\\python36\\lib\\site-packages\\jinja2\\environment.py\", line 780, in handle_exception\n",
      "    reraise(exc_type, exc_value, tb)\n",
      "  File \"c:\\python36\\lib\\site-packages\\jinja2\\_compat.py\", line 37, in reraise\n",
      "    raise value.with_traceback(tb)\n",
      "  File \"D:\\data\\electionresults\\templates\\core.html\", line 8, in template\n",
      "    <table id=\"{{ racename | slugify }}\">\n",
      "  File \"c:\\python36\\lib\\site-packages\\jinja2\\environment.py\", line 543, in _generate\n",
      "    optimized=self.optimized)\n",
      "  File \"c:\\python36\\lib\\site-packages\\jinja2\\compiler.py\", line 82, in generate\n",
      "    generator.visit(node)\n",
      "  File \"c:\\python36\\lib\\site-packages\\jinja2\\visitor.py\", line 38, in visit\n",
      "    return f(node, *args, **kwargs)\n",
      "  File \"c:\\python36\\lib\\site-packages\\jinja2\\compiler.py\", line 754, in visit_Template\n",
      "    self.blockvisit(node.body, frame)\n",
      "  File \"c:\\python36\\lib\\site-packages\\jinja2\\compiler.py\", line 378, in blockvisit\n",
      "    self.visit(node, frame)\n",
      "  File \"c:\\python36\\lib\\site-packages\\jinja2\\visitor.py\", line 38, in visit\n",
      "    return f(node, *args, **kwargs)\n",
      "  File \"c:\\python36\\lib\\site-packages\\jinja2\\compiler.py\", line 1122, in visit_For\n",
      "    self.blockvisit(node.body, loop_frame)\n",
      "  File \"c:\\python36\\lib\\site-packages\\jinja2\\compiler.py\", line 378, in blockvisit\n",
      "    self.visit(node, frame)\n",
      "  File \"c:\\python36\\lib\\site-packages\\jinja2\\visitor.py\", line 38, in visit\n",
      "    return f(node, *args, **kwargs)\n",
      "  File \"c:\\python36\\lib\\site-packages\\jinja2\\compiler.py\", line 1122, in visit_For\n",
      "    self.blockvisit(node.body, loop_frame)\n",
      "  File \"c:\\python36\\lib\\site-packages\\jinja2\\compiler.py\", line 378, in blockvisit\n",
      "    self.visit(node, frame)\n",
      "  File \"c:\\python36\\lib\\site-packages\\jinja2\\visitor.py\", line 38, in visit\n",
      "    return f(node, *args, **kwargs)\n",
      "  File \"c:\\python36\\lib\\site-packages\\jinja2\\compiler.py\", line 1358, in visit_Output\n",
      "    self.visit(argument, frame)\n",
      "  File \"c:\\python36\\lib\\site-packages\\jinja2\\visitor.py\", line 38, in visit\n",
      "    return f(node, *args, **kwargs)\n",
      "  File \"c:\\python36\\lib\\site-packages\\jinja2\\compiler.py\", line 70, in new_func\n",
      "    return f(self, node, frame, **kwargs)\n",
      "  File \"c:\\python36\\lib\\site-packages\\jinja2\\compiler.py\", line 1578, in visit_Filter\n",
      "    self.fail('no filter named %r' % node.name, node.lineno)\n",
      "  File \"c:\\python36\\lib\\site-packages\\jinja2\\compiler.py\", line 315, in fail\n",
      "    raise TemplateAssertionError(msg, lineno, self.name, self.filename)\n",
      "jinja2.exceptions.TemplateAssertionError: no filter named 'slugify'\n",
      "127.0.0.1 - - [24/Aug/2018 13:05:12] \"GET /20180828/palmbeachpost/main.html HTTP/1.1\" 500 -\n"
     ]
    },
    {
     "name": "stdout",
     "output_type": "stream",
     "text": [
      "Trying to generate for palmbeachpost\n"
     ]
    },
    {
     "name": "stderr",
     "output_type": "stream",
     "text": [
      "[2018-08-24 13:05:42,643] ERROR in app: Exception on /20180828/palmbeachpost/main.html [GET]\n",
      "Traceback (most recent call last):\n",
      "  File \"c:\\python36\\lib\\site-packages\\flask\\app.py\", line 2292, in wsgi_app\n",
      "    response = self.full_dispatch_request()\n",
      "  File \"c:\\python36\\lib\\site-packages\\flask\\app.py\", line 1815, in full_dispatch_request\n",
      "    rv = self.handle_user_exception(e)\n",
      "  File \"c:\\python36\\lib\\site-packages\\flask\\app.py\", line 1718, in handle_user_exception\n",
      "    reraise(exc_type, exc_value, tb)\n",
      "  File \"c:\\python36\\lib\\site-packages\\flask\\_compat.py\", line 35, in reraise\n",
      "    raise value\n",
      "  File \"c:\\python36\\lib\\site-packages\\flask\\app.py\", line 1813, in full_dispatch_request\n",
      "    rv = self.dispatch_request()\n",
      "  File \"c:\\python36\\lib\\site-packages\\flask\\app.py\", line 1799, in dispatch_request\n",
      "    return self.view_functions[rule.endpoint](**req.view_args)\n",
      "  File \"<ipython-input-17-d91b47e23e0b>\", line 11, in maintemplate\n",
      "    paperdict=paperdict, paper=paper)\n",
      "  File \"c:\\python36\\lib\\site-packages\\flask\\templating.py\", line 134, in render_template\n",
      "    return _render(ctx.app.jinja_env.get_or_select_template(template_name_or_list),\n",
      "  File \"c:\\python36\\lib\\site-packages\\jinja2\\environment.py\", line 869, in get_or_select_template\n",
      "    return self.get_template(template_name_or_list, parent, globals)\n",
      "  File \"c:\\python36\\lib\\site-packages\\jinja2\\environment.py\", line 830, in get_template\n",
      "    return self._load_template(name, self.make_globals(globals))\n",
      "  File \"c:\\python36\\lib\\site-packages\\jinja2\\environment.py\", line 804, in _load_template\n",
      "    template = self.loader.load(self, name, globals)\n",
      "  File \"c:\\python36\\lib\\site-packages\\jinja2\\loaders.py\", line 125, in load\n",
      "    code = environment.compile(source, name, filename)\n",
      "  File \"c:\\python36\\lib\\site-packages\\jinja2\\environment.py\", line 591, in compile\n",
      "    self.handle_exception(exc_info, source_hint=source_hint)\n",
      "  File \"c:\\python36\\lib\\site-packages\\jinja2\\environment.py\", line 780, in handle_exception\n",
      "    reraise(exc_type, exc_value, tb)\n",
      "  File \"c:\\python36\\lib\\site-packages\\jinja2\\_compat.py\", line 37, in reraise\n",
      "    raise value.with_traceback(tb)\n",
      "  File \"D:\\data\\electionresults\\templates\\core.html\", line 8, in template\n",
      "    <table id=\"{{ racename | slugifier }}\">\n",
      "  File \"c:\\python36\\lib\\site-packages\\jinja2\\environment.py\", line 543, in _generate\n",
      "    optimized=self.optimized)\n",
      "  File \"c:\\python36\\lib\\site-packages\\jinja2\\compiler.py\", line 82, in generate\n",
      "    generator.visit(node)\n",
      "  File \"c:\\python36\\lib\\site-packages\\jinja2\\visitor.py\", line 38, in visit\n",
      "    return f(node, *args, **kwargs)\n",
      "  File \"c:\\python36\\lib\\site-packages\\jinja2\\compiler.py\", line 754, in visit_Template\n",
      "    self.blockvisit(node.body, frame)\n",
      "  File \"c:\\python36\\lib\\site-packages\\jinja2\\compiler.py\", line 378, in blockvisit\n",
      "    self.visit(node, frame)\n",
      "  File \"c:\\python36\\lib\\site-packages\\jinja2\\visitor.py\", line 38, in visit\n",
      "    return f(node, *args, **kwargs)\n",
      "  File \"c:\\python36\\lib\\site-packages\\jinja2\\compiler.py\", line 1122, in visit_For\n",
      "    self.blockvisit(node.body, loop_frame)\n",
      "  File \"c:\\python36\\lib\\site-packages\\jinja2\\compiler.py\", line 378, in blockvisit\n",
      "    self.visit(node, frame)\n",
      "  File \"c:\\python36\\lib\\site-packages\\jinja2\\visitor.py\", line 38, in visit\n",
      "    return f(node, *args, **kwargs)\n",
      "  File \"c:\\python36\\lib\\site-packages\\jinja2\\compiler.py\", line 1122, in visit_For\n",
      "    self.blockvisit(node.body, loop_frame)\n",
      "  File \"c:\\python36\\lib\\site-packages\\jinja2\\compiler.py\", line 378, in blockvisit\n",
      "    self.visit(node, frame)\n",
      "  File \"c:\\python36\\lib\\site-packages\\jinja2\\visitor.py\", line 38, in visit\n",
      "    return f(node, *args, **kwargs)\n",
      "  File \"c:\\python36\\lib\\site-packages\\jinja2\\compiler.py\", line 1358, in visit_Output\n",
      "    self.visit(argument, frame)\n",
      "  File \"c:\\python36\\lib\\site-packages\\jinja2\\visitor.py\", line 38, in visit\n",
      "    return f(node, *args, **kwargs)\n",
      "  File \"c:\\python36\\lib\\site-packages\\jinja2\\compiler.py\", line 70, in new_func\n",
      "    return f(self, node, frame, **kwargs)\n",
      "  File \"c:\\python36\\lib\\site-packages\\jinja2\\compiler.py\", line 1578, in visit_Filter\n",
      "    self.fail('no filter named %r' % node.name, node.lineno)\n",
      "  File \"c:\\python36\\lib\\site-packages\\jinja2\\compiler.py\", line 315, in fail\n",
      "    raise TemplateAssertionError(msg, lineno, self.name, self.filename)\n",
      "jinja2.exceptions.TemplateAssertionError: no filter named 'slugifier'\n",
      "127.0.0.1 - - [24/Aug/2018 13:05:42] \"GET /20180828/palmbeachpost/main.html HTTP/1.1\" 500 -\n"
     ]
    },
    {
     "name": "stdout",
     "output_type": "stream",
     "text": [
      "Trying to generate for palmbeachpost\n"
     ]
    },
    {
     "name": "stderr",
     "output_type": "stream",
     "text": [
      "[2018-08-24 13:06:20,622] ERROR in app: Exception on /20180828/palmbeachpost/main.html [GET]\n",
      "Traceback (most recent call last):\n",
      "  File \"c:\\python36\\lib\\site-packages\\flask\\app.py\", line 2292, in wsgi_app\n",
      "    response = self.full_dispatch_request()\n",
      "  File \"c:\\python36\\lib\\site-packages\\flask\\app.py\", line 1815, in full_dispatch_request\n",
      "    rv = self.handle_user_exception(e)\n",
      "  File \"c:\\python36\\lib\\site-packages\\flask\\app.py\", line 1718, in handle_user_exception\n",
      "    reraise(exc_type, exc_value, tb)\n",
      "  File \"c:\\python36\\lib\\site-packages\\flask\\_compat.py\", line 35, in reraise\n",
      "    raise value\n",
      "  File \"c:\\python36\\lib\\site-packages\\flask\\app.py\", line 1813, in full_dispatch_request\n",
      "    rv = self.dispatch_request()\n",
      "  File \"c:\\python36\\lib\\site-packages\\flask\\app.py\", line 1799, in dispatch_request\n",
      "    return self.view_functions[rule.endpoint](**req.view_args)\n",
      "  File \"<ipython-input-17-d91b47e23e0b>\", line 11, in maintemplate\n",
      "    paperdict=paperdict, paper=paper)\n",
      "  File \"c:\\python36\\lib\\site-packages\\flask\\templating.py\", line 135, in render_template\n",
      "    context, ctx.app)\n",
      "  File \"c:\\python36\\lib\\site-packages\\flask\\templating.py\", line 117, in _render\n",
      "    rv = template.render(context)\n",
      "  File \"c:\\python36\\lib\\site-packages\\jinja2\\asyncsupport.py\", line 76, in render\n",
      "    return original_render(self, *args, **kwargs)\n",
      "  File \"c:\\python36\\lib\\site-packages\\jinja2\\environment.py\", line 1008, in render\n",
      "    return self.environment.handle_exception(exc_info, True)\n",
      "  File \"c:\\python36\\lib\\site-packages\\jinja2\\environment.py\", line 780, in handle_exception\n",
      "    reraise(exc_type, exc_value, tb)\n",
      "  File \"c:\\python36\\lib\\site-packages\\jinja2\\_compat.py\", line 37, in reraise\n",
      "    raise value.with_traceback(tb)\n",
      "  File \"D:\\data\\electionresults\\templates\\core.html\", line 10, in top-level template code\n",
      "    {% for candidate in race['Candidates'] %}\n",
      "  File \"c:\\python36\\lib\\site-packages\\jinja2\\environment.py\", line 411, in getitem\n",
      "    return obj[argument]\n",
      "jinja2.exceptions.UndefinedError: collections.OrderedDict object has no element Undefined\n",
      "127.0.0.1 - - [24/Aug/2018 13:06:20] \"GET /20180828/palmbeachpost/main.html HTTP/1.1\" 500 -\n"
     ]
    },
    {
     "name": "stdout",
     "output_type": "stream",
     "text": [
      "Trying to generate for palmbeachpost\n"
     ]
    }
   ],
   "source": [
    "if __name__ == '__main__':\n",
    "    # Fire up the Flask test server\n",
    "    print(\"Now we're ready to actually start creating the pages.\")\n",
    "    if (len(sys.argv) > 1) and (sys.argv[1] == \"build\" or sys.argv[1] == \"fml\"):\n",
    "        # app.config.update(FREEZER_BASE_URL=buildurl, FREEZER_RELATIVE_URLS=True, FREEZER_DESTINATION=\"..\\homicides-frozen\")  # freezer_base_url  kills Python 3.6 for some reason\n",
    "        app.config.update(FREEZER_RELATIVE_URLS=True, FREEZER_DESTINATION=\"./built\")\n",
    "        try:\n",
    "            freezer.freeze()\n",
    "        except WindowsError:\n",
    "            print(\"\\tGot that standard Windows error about deleting Git stuff. Life goes on.\")\n",
    "        print(\"\\tAttempting to run post-processing script.\")\n",
    "#         p = Popen(\"postbake.bat\", cwd=r\"d:\\data\\homicides\")\n",
    "#        stdout, stderr = p.communicate()\n",
    "#        print(\"\\tProcessing should be complete.\")\n",
    "    else:\n",
    "        from werkzeug.serving import run_simple\n",
    "        app.config.update(FREEZER_BASE_URL=\"/\", FREEZER_RELATIVE_URLS=True)\n",
    "        app.run(debug=True, use_reloader=True, host=\"0.0.0.0\")\n",
    "        # run_simple('localhost', 5000, app)\n"
   ]
  },
  {
   "cell_type": "code",
   "execution_count": null,
   "metadata": {
    "collapsed": true
   },
   "outputs": [],
   "source": []
  }
 ],
 "metadata": {
  "kernelspec": {
   "display_name": "Python 3",
   "language": "python",
   "name": "python3"
  },
  "language_info": {
   "codemirror_mode": {
    "name": "ipython",
    "version": 3
   },
   "file_extension": ".py",
   "mimetype": "text/x-python",
   "name": "python",
   "nbconvert_exporter": "python",
   "pygments_lexer": "ipython3",
   "version": "3.6.3"
  }
 },
 "nbformat": 4,
 "nbformat_minor": 2
}
