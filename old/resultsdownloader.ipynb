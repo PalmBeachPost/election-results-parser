{
 "cells": [
  {
   "cell_type": "code",
   "execution_count": 1,
   "metadata": {
    "collapsed": true
   },
   "outputs": [],
   "source": [
    "import requests\n",
    "import datetime\n",
    "import os"
   ]
  },
  {
   "cell_type": "code",
   "execution_count": 2,
   "metadata": {
    "collapsed": false
   },
   "outputs": [],
   "source": [
    "subdir = \"snapshots/\"\n",
    "elexcode = \"20180828\"\n",
    "\n",
    "baseurl = \"http://fldoselectionfiles.elections.myflorida.com/enightfilespublic/\"\n",
    "\n",
    "filetypes = [\n",
    "    ('results', '_ElecResultsFL.txt'),\n",
    "    ('info', '_ElecResultsFL_PipeDlm_Info.txt'),\n",
    "    ('votes', '_ElecResultsFL_PipeDlm_Votes.txt')\n",
    "]\n",
    "\n",
    "# https://fl1dos.blob.core.windows.net/enightfilespublicdev/20180828_ElecResultsFL.txt\n",
    "# http://fldoselectionfiles.elections.myflorida.com/enightfilespublic/20180828_ElecResultsFL.txt\n",
    "# http://fldoselectionfiles.elections.myflorida.com/enightfilespublic/20180828_ElecResultsFL_PipeDlm_Info.txt\n",
    "# http://fldoselectionfiles.elections.myflorida.com/enightfilespublic/20180828_ElecResultsFL_PipeDlm_Votes.txt"
   ]
  },
  {
   "cell_type": "code",
   "execution_count": 3,
   "metadata": {
    "collapsed": true
   },
   "outputs": [],
   "source": [
    "timestamp = datetime.datetime.strftime(datetime.datetime.now(), \"%Y%m%d-%H%M%S\")"
   ]
  },
  {
   "cell_type": "code",
   "execution_count": 4,
   "metadata": {
    "collapsed": false
   },
   "outputs": [
    {
     "name": "stdout",
     "output_type": "stream",
     "text": [
      "Saving to snapshots/20180821-102109/\n",
      "Done\n"
     ]
    }
   ],
   "source": [
    "path = subdir + timestamp + \"/\"\n",
    "print (\"Saving to \" + path)\n",
    "os.makedirs(path, exist_ok=True)\n",
    "for filetype in filetypes:\n",
    "    local, remote = filetype\n",
    "    with open(path + local + \".txt\", \"wb\") as f:\n",
    "        f.write(requests.get(baseurl + elexcode + remote).content)\n",
    "with open(path + \"done\", \"w\", newline='') as f:\n",
    "    f.write(\"Start: \" + timestamp + \"\\r\\n\")\n",
    "    f.write(\"End:   \" + datetime.datetime.strftime(datetime.datetime.now(), \"%Y%m%d-%H%M%S\")  + \"\\r\\n\")\n",
    "print(\"Done\")"
   ]
  },
  {
   "cell_type": "code",
   "execution_count": null,
   "metadata": {
    "collapsed": false
   },
   "outputs": [],
   "source": []
  },
  {
   "cell_type": "code",
   "execution_count": null,
   "metadata": {
    "collapsed": false
   },
   "outputs": [],
   "source": []
  },
  {
   "cell_type": "code",
   "execution_count": null,
   "metadata": {
    "collapsed": true
   },
   "outputs": [],
   "source": []
  }
 ],
 "metadata": {
  "kernelspec": {
   "display_name": "Python 3",
   "language": "python",
   "name": "python3"
  },
  "language_info": {
   "codemirror_mode": {
    "name": "ipython",
    "version": 3
   },
   "file_extension": ".py",
   "mimetype": "text/x-python",
   "name": "python",
   "nbconvert_exporter": "python",
   "pygments_lexer": "ipython3",
   "version": "3.6.3"
  }
 },
 "nbformat": 4,
 "nbformat_minor": 2
}
