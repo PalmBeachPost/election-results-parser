{
 "cells": [
  {
   "cell_type": "code",
   "execution_count": 1,
   "metadata": {
    "collapsed": true
   },
   "outputs": [],
   "source": [
    "import csv\n",
    "import glob\n",
    "from collections import OrderedDict"
   ]
  },
  {
   "cell_type": "code",
   "execution_count": 2,
   "metadata": {
    "collapsed": true
   },
   "outputs": [],
   "source": [
    "primary = True\n",
    "datadir = \"snapshots/\""
   ]
  },
  {
   "cell_type": "code",
   "execution_count": 3,
   "metadata": {
    "collapsed": true
   },
   "outputs": [],
   "source": [
    "folders = sorted(list(glob.glob(datadir + \"*\")), reverse=True)    # Find the latest time-stamped folder\n",
    "folder = folders[0] + \"/\"\n",
    "if len(glob.glob(folder + \"*\")) != 6:   # 3 file native file types and a done file AND 2 PBC files. If not 6 files, it's not done\n",
    "    time.sleep(10)   # 10 seconds to beat a race condition\n",
    "    if len(glob.glob(folders[0] + \"/*\")) != 6:\n",
    "        print(quit)"
   ]
  },
  {
   "cell_type": "code",
   "execution_count": 4,
   "metadata": {
    "collapsed": false
   },
   "outputs": [
    {
     "name": "stdout",
     "output_type": "stream",
     "text": [
      "snapshots\\20180828-221839/\n"
     ]
    }
   ],
   "source": [
    "print(folder)"
   ]
  },
  {
   "cell_type": "code",
   "execution_count": 5,
   "metadata": {
    "collapsed": false
   },
   "outputs": [],
   "source": [
    "masterinfo = []\n",
    "masterraces = OrderedDict()\n",
    "# mastercandidates = OrderedDict()\n",
    "mastercandidates = OrderedDict()\n",
    "masterunits = OrderedDict()\n",
    "\n",
    "with open(folder + \"info.txt\") as f:\n",
    "    rows = f.readlines()\n",
    "for row in rows:\n",
    "    row = row.strip()\n",
    "    row = row[1:-1]\n",
    "    masterinfo.append(row)\n",
    "    if row[0] == \"r\":    # If we have a race identifier\n",
    "        fields = row.split(\"|\")\n",
    "        raceid = fields[5]\n",
    "        electiontype = fields[4]\n",
    "        racename = fields[3]\n",
    "        masterraces[raceid] = {}\n",
    "        masterraces[raceid][\"electiontype\"] = electiontype\n",
    "        masterraces[raceid][\"racename\"] = racename\n",
    "        masterraces[raceid][\"Candidates\"] = OrderedDict()\n",
    "        masterraces[raceid]['Counties'] = OrderedDict()\n",
    "    elif row[0] == \"c\":   # If we have a candidate identifier\n",
    "        fields = row.split(\"|\")\n",
    "        candidateid = fields[6]\n",
    "        candidatefirstname = fields[5]\n",
    "        candidatelastname = fields[4]\n",
    "        fullname = candidatefirstname + \" \" + candidatelastname\n",
    "        raceid = fields[3]\n",
    "        masterraces[raceid]['Candidates'][candidateid] = {}\n",
    "        masterraces[raceid]['Candidates'][candidateid]['firstname'] = candidatefirstname\n",
    "        masterraces[raceid]['Candidates'][candidateid]['lastname'] = candidatelastname\n",
    "        mastercandidates[candidateid] = raceid\n",
    "    elif row[0] == \"u\":\n",
    "        fields = row.split(\"|\")\n",
    "        unitid = fields[4]\n",
    "        unitname = fields[3]\n",
    "        masterunits[unitid] = unitname\n",
    "    elif row[0] == \"p\":\n",
    "        fields = row.split(\"|\")\n",
    "        precincts = fields[5]\n",
    "        unitid = fields[4]\n",
    "        raceid = fields[3]\n",
    "        masterraces[raceid]['Counties'][unitid] = OrderedDict()\n",
    "        masterraces[raceid]['Counties'][unitid]['Precincts'] = precincts\n",
    "    else:\n",
    "        print(row)"
   ]
  },
  {
   "cell_type": "code",
   "execution_count": 10,
   "metadata": {
    "collapsed": false
   },
   "outputs": [],
   "source": [
    "masterlist = []\n",
    "with open(folder + \"votes.txt\") as f:\n",
    "    rows = f.readlines()\n",
    "with open(folder + \"votesv2.txt\", \"w\", newline=\"\") as f:\n",
    "    writer = csv.writer(f, delimiter=\"\\t\")\n",
    "    fieldnames = [\"ElectionDate\", \"PartyCode\", \"PartyName\", \"RaceCode\", \"RaceName\", \"CountyCode\",\n",
    "                  \"CountyName\", \"Juris1num\", \"Juris2num\", \"Precincts\", \"PrecinctsReporting\",\n",
    "                  \"CanNameLast\", \"CanNameFirst\", \"CanNameMiddle\", \"CanVotes\"]\n",
    "    writer.writerow(fieldnames)\n",
    "    for row in rows:\n",
    "        row = row.strip()\n",
    "        row = row[1:-1]\n",
    "        masterlist.append(row)\n",
    "        fields = row.split(\"|\")\n",
    "        status = fields[3]\n",
    "        raceid = fields[4]\n",
    "        unitid = fields[5]\n",
    "        precinctsr = fields[6]\n",
    "        candidateid = fields[7]\n",
    "        votes = fields[8]\n",
    "\n",
    "        line = OrderedDict()\n",
    "        for field in fieldnames:\n",
    "            line[field] = \"HEY\"\n",
    "        line['PartyCode'] = masterraces[raceid]['electiontype']\n",
    "        line['PartyName'] = masterraces[raceid]['electiontype']\n",
    "        line['RaceCode'] = raceid\n",
    "        line['RaceName'] = masterraces[raceid][\"racename\"]\n",
    "        line['CountyCode'] = unitid\n",
    "        line['CountyName'] = masterunits[unitid]\n",
    "        line['Precincts'] = masterraces[raceid]['Counties'][unitid]['Precincts']\n",
    "        line['PrecinctsReporting'] = precinctsr\n",
    "        line['CanNameLast'] = masterraces[raceid]['Candidates'][candidateid]['lastname']\n",
    "        line['CanNameFirst'] = masterraces[raceid]['Candidates'][candidateid]['firstname']\n",
    "        line['CanVotes'] = votes\n",
    "        target = line.values()\n",
    "        writer.writerow(line)"
   ]
  },
  {
   "cell_type": "code",
   "execution_count": 7,
   "metadata": {
    "collapsed": false
   },
   "outputs": [
    {
     "name": "stdout",
     "output_type": "stream",
     "text": [
      "OrderedDict([('ElectionDate', 'HEY'), ('PartyCode', 'Nonpartisan Primary'), ('PartyName', 'Nonpartisan Primary'), ('RaceCode', '552008'), ('RaceName', 'Circuit Judge, 20th Judicial Circuit, Group 8'), ('CountyCode', '12071'), ('CountyName', 'Lee'), ('Juris1num', 'HEY'), ('Juris2num', 'HEY'), ('Precincts', '127'), ('PrecinctsReporting', '127'), ('CanNameLast', 'McGowan'), ('CanNameFirst', 'John'), ('CanNameMiddle', 'HEY'), ('CanVotes', '55314')])\n"
     ]
    }
   ],
   "source": [
    "print(line)"
   ]
  },
  {
   "cell_type": "code",
   "execution_count": null,
   "metadata": {
    "collapsed": true
   },
   "outputs": [],
   "source": []
  }
 ],
 "metadata": {
  "kernelspec": {
   "display_name": "Python 3",
   "language": "python",
   "name": "python3"
  },
  "language_info": {
   "codemirror_mode": {
    "name": "ipython",
    "version": 3
   },
   "file_extension": ".py",
   "mimetype": "text/x-python",
   "name": "python",
   "nbconvert_exporter": "python",
   "pygments_lexer": "ipython3",
   "version": "3.6.3"
  }
 },
 "nbformat": 4,
 "nbformat_minor": 2
}
