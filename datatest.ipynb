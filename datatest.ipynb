{
 "cells": [
  {
   "cell_type": "code",
   "execution_count": 28,
   "metadata": {
    "collapsed": false
   },
   "outputs": [],
   "source": [
    "import pickle\n",
    "import simplejson as json\n",
    "import pprint"
   ]
  },
  {
   "cell_type": "code",
   "execution_count": 29,
   "metadata": {
    "collapsed": true
   },
   "outputs": [],
   "source": [
    "pp = pprint.PrettyPrinter(indent=20)\n"
   ]
  },
  {
   "cell_type": "code",
   "execution_count": 30,
   "metadata": {
    "collapsed": false
   },
   "outputs": [],
   "source": [
    "with open(\"masterlist.pickle\", \"rb\") as f:\n",
    "    masterlist = pickle.load(f)\n",
    "with open(\"paperdict.pickle\", \"rb\") as f:\n",
    "    paperdict = pickle.load(f)\n",
    "with open(\"racedict.pickle\", \"rb\") as f:\n",
    "    racedict = pickle.load(f)"
   ]
  },
  {
   "cell_type": "code",
   "execution_count": 31,
   "metadata": {
    "collapsed": false
   },
   "outputs": [
    {
     "data": {
      "text/plain": [
       "'{\"electtotal\": 71511, \"precinctsreporting\": 347, \"precinctsreportingpct\": 1, \"precinctstotal\": 347, \"officeid\": \"\", \"officename\": \"Representative in Congress, District 18\", \"racetypeid\": \"Republican Primary\", \"seatname\": \"\", \"seatnum\": \"\", \"reportingunitid\": {\"12085\": {\"polid\": {}, \"reportingunitname\": \"Martin\", \"precinctsreporting\": 30, \"precinctstotal\": 30, \"precinctsreportingpct\": \"1\", \"electtotal\": 24555, \"Florida 70691\": 2387, \"Florida 70857\": 2492, \"Florida 70303\": 19676}, \"12099\": {\"polid\": {}, \"reportingunitname\": \"Palm Beach\", \"precinctsreporting\": 253, \"precinctstotal\": 253, \"precinctsreportingpct\": \"1\", \"electtotal\": 23934, \"Florida 70691\": 2677, \"Florida 70857\": 2992, \"Florida 70303\": 18265}, \"12111\": {\"polid\": {}, \"reportingunitname\": \"St. Lucie\", \"precinctsreporting\": 64, \"precinctstotal\": 64, \"precinctsreportingpct\": \"1\", \"electtotal\": 23022, \"Florida 70691\": 2824, \"Florida 70857\": 2612, \"Florida 70303\": 17586}}, \"polid\": {\"Florida 70691\": {\"votecount\": 7888, \"first\": \"Dave\", \"incumbent\": \"\", \"last\": \"Cummings\", \"party\": \"Republican Party\", \"runoff\": \"\", \"uncontested\": \"\", \"winner\": \"\", \"votepct\": 0.1103047084}, \"Florida 70857\": {\"votecount\": 8096, \"first\": \"Mark\", \"incumbent\": \"\", \"last\": \"Freeman\", \"party\": \"Republican Party\", \"runoff\": \"\", \"uncontested\": \"\", \"winner\": \"\", \"votepct\": 0.1132133518}, \"Florida 70303\": {\"votecount\": 55527, \"first\": \"Brian\", \"incumbent\": \"\", \"last\": \"Mast\", \"party\": \"Republican Party\", \"runoff\": \"\", \"uncontested\": \"\", \"winner\": \"\", \"votepct\": 0.7764819398}}}'"
      ]
     },
     "execution_count": 31,
     "metadata": {},
     "output_type": "execute_result"
    }
   ],
   "source": [
    "json.dumps(racedict['140181'])"
   ]
  },
  {
   "cell_type": "code",
   "execution_count": null,
   "metadata": {
    "collapsed": true
   },
   "outputs": [],
   "source": []
  }
 ],
 "metadata": {
  "kernelspec": {
   "display_name": "Python 3",
   "language": "python",
   "name": "python3"
  },
  "language_info": {
   "codemirror_mode": {
    "name": "ipython",
    "version": 3
   },
   "file_extension": ".py",
   "mimetype": "text/x-python",
   "name": "python",
   "nbconvert_exporter": "python",
   "pygments_lexer": "ipython3",
   "version": "3.6.1"
  }
 },
 "nbformat": 4,
 "nbformat_minor": 2
}
