{
 "cells": [
  {
   "cell_type": "code",
   "execution_count": 33,
   "metadata": {
    "collapsed": false,
    "deletable": true,
    "editable": true
   },
   "outputs": [],
   "source": [
    "import csv\n",
    "import glob\n",
    "from collections import OrderedDict\n",
    "import os\n",
    "import time\n",
    "from decimal import *\n",
    "import pprint\n",
    "pp = pprint.PrettyPrinter(indent=4)"
   ]
  },
  {
   "cell_type": "code",
   "execution_count": 34,
   "metadata": {
    "collapsed": true,
    "deletable": true,
    "editable": true
   },
   "outputs": [],
   "source": [
    "primary = True\n",
    "datadir = \"snapshots/\"\n",
    "getcontext().prec = 5"
   ]
  },
  {
   "cell_type": "code",
   "execution_count": 35,
   "metadata": {
    "collapsed": false,
    "deletable": true,
    "editable": true
   },
   "outputs": [],
   "source": [
    "headers = [\n",
    "    \"id\", \"raceid\", \"racetype\", \"racetypeid\", \"ballotorder\", \"candidateid\",\n",
    "    \"description\", \"delegatecount\", \"electiondate\", \"electtotal\", \"electwon\",\n",
    "    \"fipscode\", \"first\", \"incumbent\", \"initialization_data\", \"is_ballot_measure\",\n",
    "    \"last\", \"lastupdated\", \"level\", \"national\", \"officeid\", \"officename\", \"party\",\n",
    "    \"polid\", \"polnum\", \"precinctsreporting\", \"precinctsreportingpct\", \"precinctstotal\",\n",
    "    \"reportingunitid\", \"reportingunitname\", \"runoff\", \"seatname\", \"seatnum\", \"statename\",\n",
    "    \"statepostal\", \"test\", \"uncontested\", \"votecount\", \"votepct\", \"winner\"\n",
    "]\n",
    "\n",
    "# blankrow = OrderedDict()\n",
    "# for item in headers:\n",
    "#     blankrow[item] = \"\""
   ]
  },
  {
   "cell_type": "code",
   "execution_count": 36,
   "metadata": {
    "collapsed": true,
    "deletable": true,
    "editable": true
   },
   "outputs": [],
   "source": [
    "folders = sorted(list(glob.glob(datadir + \"*\")), reverse=True)    # Find the latest time-stamped folder\n",
    "folder = folders[0] + \"/\"\n",
    "if not os.path.exists(folder + \"done\"):\n",
    "    time.sleep(10)   # Try to beat a race condition\n",
    "    if not os.path.exists(folder + \"done\"):\n",
    "        print(quit)"
   ]
  },
  {
   "cell_type": "code",
   "execution_count": 37,
   "metadata": {
    "collapsed": false,
    "deletable": true,
    "editable": true
   },
   "outputs": [
    {
     "name": "stdout",
     "output_type": "stream",
     "text": [
      "Parsing snapshots\\20180830-094716/\n"
     ]
    }
   ],
   "source": [
    "print(\"Parsing \" + folder)"
   ]
  },
  {
   "cell_type": "code",
   "execution_count": 38,
   "metadata": {
    "collapsed": false,
    "deletable": true,
    "editable": true
   },
   "outputs": [
    {
     "name": "stdout",
     "output_type": "stream",
     "text": [
      "Faulty row with extra character: [r|FLDOS|1|United States Senator|Republican Primary|120001\n",
      "Fixed row: r|FLDOS|1|United States Senator|Republican Primary|120001\n"
     ]
    }
   ],
   "source": [
    "# masterinfo = []\n",
    "masterraces = OrderedDict()\n",
    "# mastercandidates = OrderedDict()\n",
    "mastercandidates = OrderedDict()\n",
    "masterunits = OrderedDict()\n",
    "\n",
    "with open(folder + \"info.txt\", encoding=\"utf-8\") as f:\n",
    "    rows = f.readlines()\n",
    "for row in rows:\n",
    "    row = row.strip()\n",
    "    row = row[1:-1]   # Lose [] line wrappers\n",
    "    if \"[\" in row:    # Stupid unicode fix\n",
    "        print(\"Faulty row with extra character: \" + row)\n",
    "        row = str(row[row.find(\"[\")+1:])\n",
    "        print(\"Fixed row: \" + row)\n",
    "    if len(row) > 4:   # If not a blank row\n",
    "        # masterinfo.append(row)   # keep a copy of everything parsed\n",
    "        if row[0] == \"r\":    # If we have a race identifier\n",
    "            fields = row.split(\"|\")\n",
    "            fields = [item.strip() for item in fields]   # Lose any extra whitespace\n",
    "            junk, junk, junk, racename, electiontype, raceid = fields\n",
    "            masterraces[raceid] = {}\n",
    "            masterraces[raceid][\"electiontype\"] = electiontype\n",
    "            masterraces[raceid][\"racename\"] = racename\n",
    "            masterraces[raceid][\"Candidates\"] = OrderedDict()\n",
    "            masterraces[raceid]['Counties'] = OrderedDict()\n",
    "        elif row[0] == \"c\":   # If we have a candidate identifier\n",
    "            fields = row.split(\"|\")\n",
    "            fields = [item.strip() for item in fields]   # Lose any extra whitespace            \n",
    "            junk, junk, junk, raceid, candidatelastname, candidatefirstname, candidateid = fields\n",
    "            masterraces[raceid]['Candidates'][candidateid] = {}\n",
    "            masterraces[raceid]['Candidates'][candidateid]['firstname'] = candidatefirstname\n",
    "            masterraces[raceid]['Candidates'][candidateid]['lastname'] = candidatelastname\n",
    "            mastercandidates[candidateid] = raceid\n",
    "        elif row[0] == \"u\":\n",
    "            fields = row.split(\"|\")\n",
    "            fields = [item.strip() for item in fields]   # Lose any extra whitespace            \n",
    "            junk, junk, junk, unitname, unitid = fields\n",
    "            masterunits[unitid] = unitname\n",
    "        elif row[0] == \"p\":\n",
    "            fields = row.split(\"|\")\n",
    "            fields = [item.strip() for item in fields]   # Lose any extra whitespace\n",
    "            junk, junk, junk, raceid, unitid, precincts = fields\n",
    "            precincts = int(precincts)\n",
    "            masterraces[raceid]['Counties'][unitid] = OrderedDict()\n",
    "            masterraces[raceid]['Counties'][unitid]['Precincts'] = precincts\n",
    "        else:\n",
    "            print(\"Found non-conforming row: \" + row)"
   ]
  },
  {
   "cell_type": "code",
   "execution_count": 39,
   "metadata": {
    "collapsed": false,
    "deletable": true,
    "editable": true
   },
   "outputs": [],
   "source": [
    "masterlist = []\n",
    "votedict = {}\n",
    "with open(folder + \"votes.txt\", \"r\") as f:\n",
    "    rows = f.readlines()\n",
    "for row in rows:\n",
    "    row = row.strip()\n",
    "    row = row[1:-1]\n",
    "    fields = row.split(\"|\")\n",
    "    fields = [item.strip() for item in fields]   # Lose any extra whitespace\n",
    "    junk, junk, seqno, status, raceid, reportingunitid, precinctsreporting, candidateid, votes = fields\n",
    "    line = OrderedDict()   # Initialize variable\n",
    "    for item in headers:\n",
    "        line[item] = \"\"\n",
    "    votes = int(votes)\n",
    "    precinctsreporting = int(precinctsreporting)\n",
    "    lookups = {\n",
    "        \"id\": \"floridaofficial-\" + raceid + \"-\" + reportingunitid,\n",
    "        \"raceid\": raceid,\n",
    "        \"racetype\": masterraces[raceid]['electiontype'],\n",
    "        \"racetypeid\": masterraces[raceid]['electiontype'],\n",
    "        \"ballotorder\": int(seqno),\n",
    "        \"candidateid\": candidateid,\n",
    "        \"first\": masterraces[raceid]['Candidates'][candidateid]['firstname'],\n",
    "        \"last\": masterraces[raceid]['Candidates'][candidateid]['lastname'],\n",
    "        \"national\": \"FALSE\",\n",
    "        \"officename\": masterraces[raceid][\"racename\"],\n",
    "        \"polid\": \"floridaofficial-\" + raceid,\n",
    "        \"precinctsreporting\": int(precinctsreporting),\n",
    "        \"precinctstotal\": masterraces[raceid]['Counties'][reportingunitid]['Precincts'],\n",
    "        \"precinctsreportingpct\": Decimal(precinctsreporting) / Decimal(masterraces[raceid]['Counties'][reportingunitid]['Precincts']),\n",
    "        \"reportingunitid\": reportingunitid,\n",
    "        \"reportingunitname\": masterunits[reportingunitid],\n",
    "        \"statename\": \"Florida\",\n",
    "        \"statepostal\": \"FL\",\n",
    "        \"votecount\": int(votes)\n",
    "    }\n",
    "    for key in lookups:\n",
    "        line[key] = lookups[key]\n",
    "    if line[\"id\"] not in votedict:\n",
    "        votedict[line[\"id\"]] = 0\n",
    "    votedict[line[\"id\"]] += votes\n",
    "    # print(line)\n",
    "    masterlist.append(line)"
   ]
  },
  {
   "cell_type": "code",
   "execution_count": 40,
   "metadata": {
    "collapsed": false
   },
   "outputs": [
    {
     "data": {
      "text/plain": [
       "'\\n        NEED TO BUILD FIELD DESCRIPTIONS. Asking on AP for copyright.          \\n\\n        Skipping description, delegatecount, electiondate, electtotal, electwon,\\n        incumbent, initalization_data, is_ballot_measure, last_updated, level,\\n        officeid, party, runoff, seatname, seatnum, test, uncontested, winner\\n        Really should look at last_updated, electiondate, party\\n        \\n'"
      ]
     },
     "execution_count": 40,
     "metadata": {},
     "output_type": "execute_result"
    }
   ],
   "source": [
    "\"\"\"\n",
    "        NEED TO BUILD FIELD DESCRIPTIONS. Asking on AP for copyright.          \n",
    "\n",
    "        Skipping description, delegatecount, electiondate, electtotal, electwon,\n",
    "        incumbent, initalization_data, is_ballot_measure, last_updated, level,\n",
    "        officeid, party, runoff, seatname, seatnum, test, uncontested, winner\n",
    "        Really should look at last_updated, electiondate, party\n",
    "        \n",
    "\"\"\""
   ]
  },
  {
   "cell_type": "code",
   "execution_count": 41,
   "metadata": {
    "collapsed": false,
    "deletable": true,
    "editable": true
   },
   "outputs": [],
   "source": [
    "for counter, row in enumerate(masterlist):\n",
    "    # masterlist[counter][row[\"votepct\"]] = Decimal(row['votecount']) / Decimal(votedict[row['id']])\n",
    "    masterlist[counter][\"votepct\"] = Decimal(row['votecount']) / Decimal(votedict[row['id']])\n"
   ]
  },
  {
   "cell_type": "code",
   "execution_count": 42,
   "metadata": {
    "collapsed": false
   },
   "outputs": [
    {
     "name": "stdout",
     "output_type": "stream",
     "text": [
      "OrderedDict([('id', 'floridaofficial-552008-12071'), ('raceid', '552008'), ('racetype', 'Nonpartisan Primary'), ('racetypeid', 'Nonpartisan Primary'), ('ballotorder', 999894), ('candidateid', '70243'), ('description', ''), ('delegatecount', ''), ('electiondate', ''), ('electtotal', ''), ('electwon', ''), ('fipscode', ''), ('first', 'John'), ('incumbent', ''), ('initialization_data', ''), ('is_ballot_measure', ''), ('last', 'McGowan'), ('lastupdated', ''), ('level', ''), ('national', 'FALSE'), ('officeid', ''), ('officename', 'Circuit Judge, 20th Judicial Circuit, Group 8'), ('party', ''), ('polid', 'floridaofficial-552008'), ('polnum', ''), ('precinctsreporting', 127), ('precinctsreportingpct', Decimal('1')), ('precinctstotal', 127), ('reportingunitid', '12071'), ('reportingunitname', 'Lee'), ('runoff', ''), ('seatname', ''), ('seatnum', ''), ('statename', 'Florida'), ('statepostal', 'FL'), ('test', ''), ('uncontested', ''), ('votecount', 55314), ('votepct', Decimal('0.57512')), ('winner', '')])\n"
     ]
    }
   ],
   "source": [
    "print(row)"
   ]
  },
  {
   "cell_type": "code",
   "execution_count": 43,
   "metadata": {
    "collapsed": false,
    "deletable": true,
    "editable": true
   },
   "outputs": [],
   "source": [
    "with open(folder + \"fl-elex.csv\", \"w\", newline=\"\") as f:\n",
    "    writer = csv.writer(f)  # Save as CSV\n",
    "    writer.writerow(headers)\n",
    "    for row in masterlist:\n",
    "        writer.writerow(row.values())"
   ]
  },
  {
   "cell_type": "code",
   "execution_count": null,
   "metadata": {
    "collapsed": true,
    "deletable": true,
    "editable": true
   },
   "outputs": [],
   "source": [
    "# masterlist = []\n",
    "with open(folder + \"votes.txt\") as f:\n",
    "    rows = f.readlines()\n",
    "with open(folder + \"resultsv2.txt\", \"w\", newline=\"\") as f:\n",
    "    writer = csv.writer(f, delimiter=\"\\t\")\n",
    "    fieldnames = [\"ElectionDate\", \"PartyCode\", \"PartyName\", \"RaceCode\", \"RaceName\", \"CountyCode\",\n",
    "                  \"CountyName\", \"Juris1num\", \"Juris2num\", \"Precincts\", \"PrecinctsReporting\",\n",
    "                  \"CanNameLast\", \"CanNameFirst\", \"CanNameMiddle\", \"CanVotes\"]\n",
    "    writer.writerow(fieldnames)\n",
    "    for row in rows:\n",
    "        row = row.strip()\n",
    "        row = row[1:-1]\n",
    "        # masterlist.append(row)\n",
    "        fields = row.split(\"|\")\n",
    "        status = fields[3]\n",
    "        raceid = fields[4]\n",
    "        unitid = fields[5]\n",
    "        precinctsr = fields[6]\n",
    "        candidateid = fields[7]\n",
    "        votes = fields[8]\n",
    "\n",
    "        line = OrderedDict()\n",
    "        for field in fieldnames:\n",
    "            line[field] = \"HEY\"\n",
    "        line['PartyCode'] = masterraces[raceid]['electiontype']\n",
    "        line['PartyName'] = masterraces[raceid]['electiontype']\n",
    "        line['RaceCode'] = raceid\n",
    "        line['RaceName'] = masterraces[raceid][\"racename\"]\n",
    "        line['CountyCode'] = unitid\n",
    "        line['CountyName'] = masterunits[unitid]\n",
    "        line['Precincts'] = masterraces[raceid]['Counties'][unitid]['Precincts']\n",
    "        line['PrecinctsReporting'] = precinctsr\n",
    "        line['CanNameLast'] = masterraces[raceid]['Candidates'][candidateid]['lastname']\n",
    "        line['CanNameFirst'] = masterraces[raceid]['Candidates'][candidateid]['firstname']\n",
    "        line['CanVotes'] = votes\n",
    "        target = line.values()\n",
    "        writer.writerow(target)\n"
   ]
  }
 ],
 "metadata": {
  "kernelspec": {
   "display_name": "Python 3",
   "language": "python",
   "name": "python3"
  },
  "language_info": {
   "codemirror_mode": {
    "name": "ipython",
    "version": 3
   },
   "file_extension": ".py",
   "mimetype": "text/x-python",
   "name": "python",
   "nbconvert_exporter": "python",
   "pygments_lexer": "ipython3",
   "version": "3.6.3"
  }
 },
 "nbformat": 4,
 "nbformat_minor": 2
}
