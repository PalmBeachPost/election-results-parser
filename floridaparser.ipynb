{
 "cells": [
  {
   "cell_type": "code",
   "execution_count": 1,
   "metadata": {
    "collapsed": false,
    "deletable": true,
    "editable": true
   },
   "outputs": [],
   "source": [
    "import csv\n",
    "import glob\n",
    "from collections import OrderedDict\n",
    "import os\n",
    "import time\n",
    "from decimal import *\n",
    "import pprint\n",
    "pp = pprint.PrettyPrinter(indent=4)"
   ]
  },
  {
   "cell_type": "code",
   "execution_count": 2,
   "metadata": {
    "collapsed": true,
    "deletable": true,
    "editable": true
   },
   "outputs": [],
   "source": [
    "primary = True\n",
    "datadir = \"snapshots/\"\n",
    "getcontext().prec = 5\n",
    "fileprefix = \"floridaofficial-\"\n",
    "\n",
    "WantPartiesFromCSV = True    # Do we also parse the CSV?"
   ]
  },
  {
   "cell_type": "code",
   "execution_count": 3,
   "metadata": {
    "collapsed": false
   },
   "outputs": [
    {
     "data": {
      "text/plain": [
       "'\\n        NEED TO BUILD FIELD DESCRIPTIONS. Asking on AP for copyright.          \\n\\n        Not parsing anything for description, delegatecount, electiondate, electtotal, electwon,\\n        incumbent, initalization_data, is_ballot_measure, last_updated, level,\\n        officeid, party, runoff, seatname, seatnum, test, uncontested, winner\\n        \\n        Really should look at last_updated, electiondate, party\\n        \\n'"
      ]
     },
     "execution_count": 3,
     "metadata": {},
     "output_type": "execute_result"
    }
   ],
   "source": [
    "\"\"\"\n",
    "        NEED TO BUILD FIELD DESCRIPTIONS. Asking on AP for copyright.          \n",
    "\n",
    "        Not parsing anything for description, delegatecount, electiondate, electtotal, electwon,\n",
    "        incumbent, initalization_data, is_ballot_measure, last_updated, level,\n",
    "        officeid, party, runoff, seatname, seatnum, test, uncontested, winner\n",
    "        \n",
    "        Really should look at last_updated, electiondate\n",
    "        \n",
    "\"\"\""
   ]
  },
  {
   "cell_type": "code",
   "execution_count": 4,
   "metadata": {
    "collapsed": false,
    "deletable": true,
    "editable": true
   },
   "outputs": [],
   "source": [
    "headers = [\n",
    "    \"id\", \"raceid\", \"racetype\", \"racetypeid\", \"ballotorder\", \"candidateid\",\n",
    "    \"description\", \"delegatecount\", \"electiondate\", \"electtotal\", \"electwon\",\n",
    "    \"fipscode\", \"first\", \"incumbent\", \"initialization_data\", \"is_ballot_measure\",\n",
    "    \"last\", \"lastupdated\", \"level\", \"national\", \"officeid\", \"officename\", \"party\",\n",
    "    \"polid\", \"polnum\", \"precinctsreporting\", \"precinctsreportingpct\", \"precinctstotal\",\n",
    "    \"reportingunitid\", \"reportingunitname\", \"runoff\", \"seatname\", \"seatnum\", \"statename\",\n",
    "    \"statepostal\", \"test\", \"uncontested\", \"votecount\", \"votepct\", \"winner\"\n",
    "]\n",
    "\n",
    "# blankrow = OrderedDict()\n",
    "# for item in headers:\n",
    "#     blankrow[item] = \"\""
   ]
  },
  {
   "cell_type": "code",
   "execution_count": 5,
   "metadata": {
    "collapsed": true,
    "deletable": true,
    "editable": true
   },
   "outputs": [],
   "source": [
    "folders = sorted(list(glob.glob(datadir + \"*\")), reverse=True)    # Find the latest time-stamped folder\n",
    "folder = folders[0] + \"/\"\n",
    "if not os.path.exists(folder + \"done\"):\n",
    "    time.sleep(10)   # Try to beat a race condition\n",
    "    if not os.path.exists(folder + \"done\"):\n",
    "        print(quit)"
   ]
  },
  {
   "cell_type": "code",
   "execution_count": 6,
   "metadata": {
    "collapsed": false,
    "deletable": true,
    "editable": true
   },
   "outputs": [
    {
     "name": "stdout",
     "output_type": "stream",
     "text": [
      "Parsing snapshots\\20180830-094716/\n"
     ]
    }
   ],
   "source": [
    "print(\"Parsing \" + folder)"
   ]
  },
  {
   "cell_type": "code",
   "execution_count": 7,
   "metadata": {
    "collapsed": false,
    "deletable": true,
    "editable": true
   },
   "outputs": [
    {
     "name": "stdout",
     "output_type": "stream",
     "text": [
      "Faulty row with extra character: [r|FLDOS|1|United States Senator|Republican Primary|120001\n",
      "Fixed row: r|FLDOS|1|United States Senator|Republican Primary|120001\n"
     ]
    }
   ],
   "source": [
    "# masterinfo = []\n",
    "masterraces = OrderedDict()\n",
    "# mastercandidates = OrderedDict()\n",
    "mastercandidates = OrderedDict()\n",
    "masterunits = OrderedDict()\n",
    "\n",
    "with open(folder + \"info.txt\", encoding=\"utf-8\") as f:\n",
    "    rows = f.readlines()\n",
    "for row in rows:\n",
    "    row = row.strip()\n",
    "    row = row[1:-1]   # Lose [] line wrappers\n",
    "    if \"[\" in row:    # Stupid unicode fix\n",
    "        print(\"Faulty row with extra character: \" + row)\n",
    "        row = str(row[row.find(\"[\")+1:])\n",
    "        print(\"Fixed row: \" + row)\n",
    "    if len(row) > 4:   # If not a blank row\n",
    "        # masterinfo.append(row)   # keep a copy of everything parsed\n",
    "        if row[0] == \"r\":    # If we have a race identifier\n",
    "            fields = row.split(\"|\")\n",
    "            fields = [item.strip() for item in fields]   # Lose any extra whitespace\n",
    "            junk, junk, junk, racename, electiontype, raceid = fields\n",
    "            masterraces[raceid] = {}\n",
    "            masterraces[raceid][\"electiontype\"] = electiontype\n",
    "            masterraces[raceid][\"racename\"] = racename\n",
    "            masterraces[raceid][\"Candidates\"] = OrderedDict()\n",
    "            masterraces[raceid]['Counties'] = OrderedDict()\n",
    "        elif row[0] == \"c\":   # If we have a candidate identifier\n",
    "            fields = row.split(\"|\")\n",
    "            fields = [item.strip() for item in fields]   # Lose any extra whitespace            \n",
    "            junk, junk, junk, raceid, candidatelastname, candidatefirstname, candidateid = fields\n",
    "            masterraces[raceid]['Candidates'][candidateid] = {}\n",
    "            masterraces[raceid]['Candidates'][candidateid]['firstname'] = candidatefirstname\n",
    "            masterraces[raceid]['Candidates'][candidateid]['lastname'] = candidatelastname\n",
    "            mastercandidates[candidateid] = raceid\n",
    "        elif row[0] == \"u\":\n",
    "            fields = row.split(\"|\")\n",
    "            fields = [item.strip() for item in fields]   # Lose any extra whitespace            \n",
    "            junk, junk, junk, unitname, unitid = fields\n",
    "            masterunits[unitid] = unitname\n",
    "        elif row[0] == \"p\":\n",
    "            fields = row.split(\"|\")\n",
    "            fields = [item.strip() for item in fields]   # Lose any extra whitespace\n",
    "            junk, junk, junk, raceid, unitid, precincts = fields\n",
    "            precincts = int(precincts)\n",
    "            masterraces[raceid]['Counties'][unitid] = OrderedDict()\n",
    "            masterraces[raceid]['Counties'][unitid]['Precincts'] = precincts\n",
    "        else:\n",
    "            print(\"Found non-conforming row: \" + row)"
   ]
  },
  {
   "cell_type": "code",
   "execution_count": 8,
   "metadata": {
    "collapsed": false,
    "deletable": true,
    "editable": true
   },
   "outputs": [],
   "source": [
    "# Parse candidate info at the local level, including getting vote total. Build out most of Elex format.\n",
    "\n",
    "masterlist = []\n",
    "votedict = {}\n",
    "with open(folder + \"votes.txt\", \"r\") as f:\n",
    "    rows = f.readlines()\n",
    "for row in rows:\n",
    "    row = row.strip()\n",
    "    row = row[1:-1]\n",
    "    fields = row.split(\"|\")\n",
    "    fields = [item.strip() for item in fields]   # Lose any extra whitespace\n",
    "    junk, junk, seqno, status, raceid, reportingunitid, precinctsreporting, candidateid, votes = fields\n",
    "    line = OrderedDict()   # Initialize variable\n",
    "    for item in headers:\n",
    "        line[item] = \"\"\n",
    "    votes = int(votes)\n",
    "    precinctsreporting = int(precinctsreporting)\n",
    "    lookups = {\n",
    "        \"id\": fileprefix + raceid + \"-\" + reportingunitid,\n",
    "        \"raceid\": raceid,\n",
    "        \"racetype\": masterraces[raceid]['electiontype'],\n",
    "        \"racetypeid\": masterraces[raceid]['electiontype'],\n",
    "        \"ballotorder\": int(seqno),\n",
    "        \"candidateid\": fileprefix + candidateid,\n",
    "        \"first\": masterraces[raceid]['Candidates'][candidateid]['firstname'],\n",
    "        \"last\": masterraces[raceid]['Candidates'][candidateid]['lastname'],\n",
    "        \"national\": \"FALSE\",\n",
    "        \"officename\": masterraces[raceid][\"racename\"],\n",
    "        \"polid\": fileprefix + candidateid,\n",
    "        \"precinctsreporting\": int(precinctsreporting),\n",
    "        \"precinctstotal\": masterraces[raceid]['Counties'][reportingunitid]['Precincts'],\n",
    "        \"precinctsreportingpct\": Decimal(precinctsreporting) / Decimal(masterraces[raceid]['Counties'][reportingunitid]['Precincts']),\n",
    "        \"reportingunitid\": reportingunitid,\n",
    "        \"reportingunitname\": masterunits[reportingunitid],\n",
    "        \"statename\": \"Florida\",\n",
    "        \"statepostal\": \"FL\",\n",
    "        \"votecount\": int(votes)\n",
    "    }\n",
    "    for key in lookups:\n",
    "        line[key] = lookups[key]\n",
    "    if line[\"id\"] not in votedict:\n",
    "        votedict[line[\"id\"]] = 0\n",
    "    votedict[line[\"id\"]] += votes\n",
    "    # print(line)\n",
    "    masterlist.append(line)"
   ]
  },
  {
   "cell_type": "code",
   "execution_count": 9,
   "metadata": {
    "collapsed": false,
    "deletable": true,
    "editable": true
   },
   "outputs": [],
   "source": [
    "# Circle back through and calculate percentage of vote\n",
    "for counter, row in enumerate(masterlist):\n",
    "    # masterlist[counter][row[\"votepct\"]] = Decimal(row['votecount']) / Decimal(votedict[row['id']])\n",
    "    masterlist[counter][\"votepct\"] = Decimal(row['votecount']) / Decimal(votedict[row['id']])"
   ]
  },
  {
   "cell_type": "code",
   "execution_count": 10,
   "metadata": {
    "collapsed": false
   },
   "outputs": [],
   "source": [
    "if WantPartiesFromCSV:\n",
    "    partylookup = {}\n",
    "    with open(folder + \"results.txt\", \"r\") as f:\n",
    "        reader = csv.DictReader(f, delimiter=\"\\t\")\n",
    "        for row in reader:\n",
    "            key = \"_\".join([row['RaceName'], row['CanNameFirst'], row['CanNameLast']])\n",
    "            if key not in partylookup:\n",
    "                partylookup[key] = row['PartyName']\n",
    "\n",
    "    # partiesfound = 0\n",
    "    # partiesnotfound = 0\n",
    "    for counter, row in enumerate(masterlist):\n",
    "        key = \"_\".join([row['officename'], row['first'], row['last']])\n",
    "        if key not in partylookup:\n",
    "            # partiesnotfound += 1\n",
    "            pass\n",
    "        else:\n",
    "            # partiesfound += 1\n",
    "            masterlist[counter][\"party\"] = partylookup[key]"
   ]
  },
  {
   "cell_type": "code",
   "execution_count": 12,
   "metadata": {
    "collapsed": false,
    "deletable": true,
    "editable": true
   },
   "outputs": [],
   "source": [
    "with open(folder + \"fl-elex.csv\", \"w\", newline=\"\") as f:\n",
    "    writer = csv.writer(f)  # Save as CSV\n",
    "    writer.writerow(headers)\n",
    "    for row in masterlist:\n",
    "        writer.writerow(row.values())"
   ]
  },
  {
   "cell_type": "code",
   "execution_count": null,
   "metadata": {
    "collapsed": true
   },
   "outputs": [],
   "source": []
  }
 ],
 "metadata": {
  "kernelspec": {
   "display_name": "Python 3",
   "language": "python",
   "name": "python3"
  },
  "language_info": {
   "codemirror_mode": {
    "name": "ipython",
    "version": 3
   },
   "file_extension": ".py",
   "mimetype": "text/x-python",
   "name": "python",
   "nbconvert_exporter": "python",
   "pygments_lexer": "ipython3",
   "version": "3.6.3"
  }
 },
 "nbformat": 4,
 "nbformat_minor": 2
}
