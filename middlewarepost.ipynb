{
 "cells": [
  {
   "cell_type": "code",
   "execution_count": 1,
   "metadata": {
    "collapsed": true
   },
   "outputs": [],
   "source": [
    "import requests\n",
    "\n",
    "import configuration     # local file\n",
    "\n",
    "import csv\n",
    "from collections import OrderedDict"
   ]
  },
  {
   "cell_type": "code",
   "execution_count": 2,
   "metadata": {
    "collapsed": true
   },
   "outputs": [],
   "source": [
    "cleaningsheet = configuration.cleaningsheet\n",
    "cleaningtemp = configuration.cleaningtemp\n",
    "cleaningdone = configuration.cleaningdone\n",
    "resultscomposite = configuration.resultscomposite"
   ]
  },
  {
   "cell_type": "code",
   "execution_count": 5,
   "metadata": {
    "collapsed": false
   },
   "outputs": [],
   "source": [
    "with open(cleaningtemp, \"wb\") as f:\n",
    "    f.write(requests.get(cleaningsheet).content)"
   ]
  },
  {
   "cell_type": "code",
   "execution_count": 6,
   "metadata": {
    "collapsed": false
   },
   "outputs": [],
   "source": [
    "with open(cleaningtemp, \"r\") as f:\n",
    "    cleaningtemp = list(csv.DictReader(f))"
   ]
  },
  {
   "cell_type": "code",
   "execution_count": 9,
   "metadata": {
    "collapsed": false
   },
   "outputs": [],
   "source": [
    "spikedict = OrderedDict()\n",
    "cleaning = OrderedDict()\n",
    "for row in cleaningtemp:\n",
    "    raceid = row['raceid']\n",
    "    candidateid = row['candidateid']\n",
    "    if raceid not in spikedict:\n",
    "        spacedict[raceid] = []\n",
    "    if row['spikerace'] == \"y\":\n",
    "        spacedict[raceid].append(\"ALL\")\n",
    "    if row['spikepol'] == \"y\":\n",
    "        spacedict[raceid].append(candidateid)\n",
    "    if raceid not in cleaning:\n",
    "        cleaning[raceid] = OrderedList()\n",
    "    if candidateid not in cleaning[raceid]:\n",
    "        cleaning[raceid][candidateid] = row"
   ]
  },
  {
   "cell_type": "code",
   "execution_count": 10,
   "metadata": {
    "collapsed": true
   },
   "outputs": [],
   "source": [
    "with open(resultscomposite, \"r\") as f:\n",
    "    masterlist = list(csv.DictReader(f))"
   ]
  },
  {
   "cell_type": "code",
   "execution_count": 11,
   "metadata": {
    "collapsed": true
   },
   "outputs": [],
   "source": [
    "with open(cleaningdone, \"w\", newline=\"\") as f:\n",
    "    writer = csv.writer(f)\n",
    "    writer.writerow(list(masterlist[0].keys()))     # Write out header row in same Elex format\n",
    "    for row in masterlist:\n",
    "        raceid = row[\"raceid\"]\n",
    "        candidateid = row[\"candidateid\"]\n",
    "        if raceid not in cleaning:\n",
    "            print(\"raceid \" + raceid + \" not found in list of cleaned races. Adding anyway.\")\n",
    "            writer.writerow(list(row.values()))\n",
    "        elif \"ALL\" not in spikedict[raceid]:\n",
    "            if candidateid not in cleaning[raceid]:\n",
    "                print(\"candidateid \" + candidateid + \" not found in list of cleaned races. Adding anyway.\")\n",
    "                writer.writerow(list(row.values()))\n",
    "            elif candidateid not in spikedict[raceid]:   # Something we know about and want? No way!\n",
    "                \n",
    "\n"
   ]
  },
  {
   "cell_type": "code",
   "execution_count": null,
   "metadata": {
    "collapsed": true
   },
   "outputs": [],
   "source": []
  }
 ],
 "metadata": {
  "kernelspec": {
   "display_name": "Python 3",
   "language": "python",
   "name": "python3"
  },
  "language_info": {
   "codemirror_mode": {
    "name": "ipython",
    "version": 3
   },
   "file_extension": ".py",
   "mimetype": "text/x-python",
   "name": "python",
   "nbconvert_exporter": "python",
   "pygments_lexer": "ipython3",
   "version": "3.6.1"
  }
 },
 "nbformat": 4,
 "nbformat_minor": 2
}
